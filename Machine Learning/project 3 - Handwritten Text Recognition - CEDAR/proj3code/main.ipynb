{
 "cells": [
  {
   "cell_type": "markdown",
   "metadata": {},
   "source": [
    "## Load MNIST on Python 3.x"
   ]
  },
  {
   "cell_type": "code",
   "execution_count": 75,
   "metadata": {},
   "outputs": [],
   "source": [
    "from keras.utils.np_utils import to_categorical \n",
    "from numpy import argmax\n",
    "import tensorflow as tf\n",
    "import numpy as np\n",
    "import pickle\n",
    "import gzip\n",
    "import math"
   ]
  },
  {
   "cell_type": "code",
   "execution_count": 76,
   "metadata": {},
   "outputs": [],
   "source": [
    "filename = 'mnist.pkl.gz'\n",
    "f = gzip.open(filename, 'rb')\n",
    "training_data, validation_data, test_data = pickle.load(f, encoding='latin1')\n",
    "f.close()"
   ]
  },
  {
   "cell_type": "code",
   "execution_count": 77,
   "metadata": {},
   "outputs": [
    {
     "name": "stdout",
     "output_type": "stream",
     "text": [
      "(50000, 784)\n",
      "(10000, 784)\n",
      "(10000, 784)\n"
     ]
    }
   ],
   "source": [
    "trainingdata = np.asmatrix(training_data[0])\n",
    "trainingtarget1 = np.asmatrix(training_data[1])\n",
    "testdata = np.asarray(test_data[0])\n",
    "testtarget = np.asarray(test_data[1])\n",
    "valdata = np.asarray(validation_data[0])\n",
    "valtarget = np.asarray(validation_data[1])\n",
    "\n",
    "print(trainingdata.shape)\n",
    "print(testdata.shape)\n",
    "print(valdata.shape)"
   ]
  },
  {
   "cell_type": "markdown",
   "metadata": {},
   "source": [
    "##  Load USPS on Python 3.x"
   ]
  },
  {
   "cell_type": "code",
   "execution_count": 78,
   "metadata": {},
   "outputs": [],
   "source": [
    "from keras.utils.np_utils import to_categorical   \n",
    "from PIL import Image\n",
    "import os\n",
    "import numpy as np\n",
    "import math"
   ]
  },
  {
   "cell_type": "code",
   "execution_count": 79,
   "metadata": {},
   "outputs": [],
   "source": [
    "USPSMat  = []\n",
    "USPSTar  = []\n",
    "curPath  = 'USPSdata/Numerals'\n",
    "savedImg = []\n",
    "\n",
    "for j in range(0,10):\n",
    "    curFolderPath = curPath + '/' + str(j)\n",
    "    imgs =  os.listdir(curFolderPath)\n",
    "    for img in imgs:\n",
    "        curImg = curFolderPath + '/' + img\n",
    "        if curImg[-3:] == 'png':\n",
    "            img = Image.open(curImg,'r')\n",
    "            img = img.resize((28, 28))\n",
    "            savedImg = img\n",
    "            imgdata = (255-np.array(img.getdata()))/255\n",
    "            USPSMat.append(imgdata)\n",
    "            USPSTar.append(j)"
   ]
  },
  {
   "cell_type": "code",
   "execution_count": 80,
   "metadata": {},
   "outputs": [
    {
     "name": "stdout",
     "output_type": "stream",
     "text": [
      "(19999, 784)\n",
      "(19999,)\n"
     ]
    }
   ],
   "source": [
    "print(np.shape(USPSMat))\n",
    "print(np.shape(USPSTar))"
   ]
  },
  {
   "cell_type": "markdown",
   "metadata": {},
   "source": [
    "# 1 Multi-class Logistic Regression With Softmax"
   ]
  },
  {
   "cell_type": "code",
   "execution_count": 81,
   "metadata": {},
   "outputs": [
    {
     "name": "stdout",
     "output_type": "stream",
     "text": [
      "(50000, 784)\n"
     ]
    }
   ],
   "source": [
    "nb_classes = 10\n",
    "r,c = (np.asmatrix(trainingdata)).shape\n",
    "print((np.asmatrix(trainingdata)).shape)\n",
    "\n",
    "trainingtarget = to_categorical(trainingtarget1, nb_classes)\n",
    "trainingtarget = trainingtarget.reshape(50000,10)\n",
    "\n",
    "def softmax(data,w):\n",
    "    x = np.dot(data,w)\n",
    "    e_x = np.exp(x-np.max(x))\n",
    "    return e_x/e_x.sum(axis=1)"
   ]
  },
  {
   "cell_type": "code",
   "execution_count": 82,
   "metadata": {},
   "outputs": [],
   "source": [
    "learningRate = 0.005\n",
    "nb_classes   = 10\n",
    "\n",
    "W_Now = np.ones((c,10))\n",
    "\n",
    "#<-------------------------------------------------Test Data--------------------------------------------------------->#\n",
    "\n",
    "for i in range(0,50000):\n",
    "    \n",
    "    t_data        = trainingdata[i].reshape(784,1)    \n",
    "    y             = softmax(t_data.T,W_Now)\n",
    "    tr = trainingtarget[i].reshape(1,10)\n",
    "    Target_new    = np.subtract(y,tr)\n",
    "    Delta_E       = np.dot(t_data,Target_new)\n",
    "    Delta_W       = np.dot(learningRate,Delta_E)\n",
    "    W_T_Next      = np.subtract(W_Now,Delta_W)\n",
    "    W_Now         = W_T_Next\n",
    "    "
   ]
  },
  {
   "cell_type": "code",
   "execution_count": 364,
   "metadata": {},
   "outputs": [],
   "source": [
    "#<-------------------------------------------------Test Data--------------------------------------------------------->#\n",
    "\n",
    "counter = 0\n",
    "y_ts           = softmax(testdata,W_Now)\n",
    "TR_TEST_OUT_M = np.argmax(y_ts, axis=1)\n",
    "TR_OUT      = np.transpose(testtarget)\n",
    "\n",
    "for i in range (0,10000):\n",
    "    if(TR_TEST_OUT_M[i] == TR_OUT[i]):\n",
    "        counter+=1\n",
    "acc_ts = (counter/10000)*100\n",
    "\n",
    "#<----------------------------------------------Vadlidation Data------------------------------------------------------>#\n",
    "\n",
    "counter = 0\n",
    "y           = softmax(valdata,W_Now)\n",
    "VL_TEST_OUT_M = np.argmax(y, axis=1)\n",
    "VL_OUT      = np.transpose(valtarget)\n",
    "\n",
    "for i in range (0,len(valtarget)):\n",
    "    if(VL_TEST_OUT_M[i] == VL_OUT[i]):\n",
    "        counter+=1\n",
    "acc_vl = (counter/len(valtarget))*100\n"
   ]
  },
  {
   "cell_type": "code",
   "execution_count": 363,
   "metadata": {},
   "outputs": [
    {
     "name": "stdout",
     "output_type": "stream",
     "text": [
      "Testing Accuracy -------->  90.84\n",
      "Validation Accuracy ----->  91.33\n"
     ]
    }
   ],
   "source": [
    "print(\"Testing Accuracy -------->  \"+ str(np.around(acc_ts,4)))\n",
    "print(\"Validation Accuracy ----->  \"+ str(np.around(acc_vl,4)))"
   ]
  },
  {
   "cell_type": "code",
   "execution_count": 365,
   "metadata": {
    "scrolled": true
   },
   "outputs": [
    {
     "data": {
      "text/plain": [
       "array([[ 955,    0,    1,    4,    0,    5,    9,    1,    5,    0],\n",
       "       [   0, 1113,    0,    5,    0,    3,    4,    2,    8,    0],\n",
       "       [   9,    9,  881,   31,   11,    3,   13,   24,   43,    8],\n",
       "       [   2,    0,   11,  927,    0,   37,    1,   12,   12,    8],\n",
       "       [   2,    4,    4,    1,  887,    1,   12,    4,   10,   57],\n",
       "       [   8,    5,    1,   44,    6,  775,   10,    9,   26,    8],\n",
       "       [  12,    3,    3,    3,    8,   29,  892,    3,    5,    0],\n",
       "       [   2,   14,   19,    8,    5,    0,    0,  951,    3,   26],\n",
       "       [   3,   10,    4,   46,    7,   55,   12,   16,  808,   13],\n",
       "       [   8,    8,    2,   13,   20,   19,    0,   40,    4,  895]],\n",
       "      dtype=int64)"
      ]
     },
     "execution_count": 365,
     "metadata": {},
     "output_type": "execute_result"
    }
   ],
   "source": [
    "from sklearn.metrics import confusion_matrix\n",
    "y_true = testtarget\n",
    "y_pred = TR_TEST_OUT_M\n",
    "confusion_matrix(y_true, y_pred)"
   ]
  },
  {
   "cell_type": "code",
   "execution_count": 367,
   "metadata": {},
   "outputs": [
    {
     "name": "stdout",
     "output_type": "stream",
     "text": [
      "              precision    recall  f1-score   support\n",
      "\n",
      "           0       0.95      0.97      0.96       980\n",
      "           1       0.95      0.98      0.97      1135\n",
      "           2       0.95      0.85      0.90      1032\n",
      "           3       0.86      0.92      0.89      1010\n",
      "           4       0.94      0.90      0.92       982\n",
      "           5       0.84      0.87      0.85       892\n",
      "           6       0.94      0.93      0.93       958\n",
      "           7       0.90      0.93      0.91      1028\n",
      "           8       0.87      0.83      0.85       974\n",
      "           9       0.88      0.89      0.88      1009\n",
      "\n",
      "   micro avg       0.91      0.91      0.91     10000\n",
      "   macro avg       0.91      0.91      0.91     10000\n",
      "weighted avg       0.91      0.91      0.91     10000\n",
      "\n"
     ]
    }
   ],
   "source": [
    "print(classification_report(testtarget, TR_TEST_OUT_M)) "
   ]
  },
  {
   "cell_type": "code",
   "execution_count": 305,
   "metadata": {},
   "outputs": [],
   "source": [
    "mnist1 = np.asarray(VL_TEST_OUT_M) #-------------------------------> MNIST prediction 1"
   ]
  },
  {
   "cell_type": "markdown",
   "metadata": {},
   "source": [
    "## Testing on USPS Dataset"
   ]
  },
  {
   "cell_type": "code",
   "execution_count": 369,
   "metadata": {},
   "outputs": [],
   "source": [
    "counter = 0\n",
    "y           = softmax(USPSMat,W_Now)\n",
    "USPS_TEST_OUT_U = np.argmax(y, axis=1)\n",
    "USPS_OUT      = np.transpose(USPSTar)\n",
    "\n",
    "for i in range (0,len(USPSTar)):\n",
    "    if(USPS_TEST_OUT_U[i] == USPS_OUT[i]):\n",
    "        counter+=1\n",
    "acc_usps = (counter/len(USPSTar))*100"
   ]
  },
  {
   "cell_type": "code",
   "execution_count": 370,
   "metadata": {},
   "outputs": [
    {
     "name": "stdout",
     "output_type": "stream",
     "text": [
      "Testing Accuracy on USPS -------->  34.9467\n"
     ]
    }
   ],
   "source": [
    "print(\"Testing Accuracy on USPS -------->  \"+ str(np.around(acc_usps,4)))"
   ]
  },
  {
   "cell_type": "code",
   "execution_count": 371,
   "metadata": {},
   "outputs": [
    {
     "data": {
      "text/plain": [
       "array([[ 563,    4,  255,   84,  167,  238,   95,   88,  146,  360],\n",
       "       [ 159,  356,  161,  341,  153,  108,   29,  464,  202,   27],\n",
       "       [ 173,   21, 1101,  233,   37,  149,   87,   85,   81,   32],\n",
       "       [  59,    2,  108, 1337,    3,  331,    3,   67,   56,   34],\n",
       "       [  64,   81,   32,   75,  833,  169,   46,  210,  321,  169],\n",
       "       [ 134,   19,  162,  210,   24, 1232,   82,   72,   48,   17],\n",
       "       [ 262,   10,  334,  147,   65,  396,  677,   26,   41,   42],\n",
       "       [ 161,  200,  216,  523,   58,  116,   22,  368,  276,   60],\n",
       "       [ 222,   32,  116,  248,   76,  737,  102,   56,  343,   68],\n",
       "       [  30,  144,  111,  526,   88,  112,   14,  460,  336,  179]],\n",
       "      dtype=int64)"
      ]
     },
     "execution_count": 371,
     "metadata": {},
     "output_type": "execute_result"
    }
   ],
   "source": [
    "from sklearn.metrics import confusion_matrix\n",
    "y_true = USPSTar\n",
    "y_pred1 = USPS_TEST_OUT_U\n",
    "confusion_matrix(y_true, y_pred1)"
   ]
  },
  {
   "cell_type": "code",
   "execution_count": 372,
   "metadata": {},
   "outputs": [
    {
     "name": "stdout",
     "output_type": "stream",
     "text": [
      "              precision    recall  f1-score   support\n",
      "\n",
      "           0       0.31      0.28      0.29      2000\n",
      "           1       0.41      0.18      0.25      2000\n",
      "           2       0.42      0.55      0.48      1999\n",
      "           3       0.36      0.67      0.47      2000\n",
      "           4       0.55      0.42      0.48      2000\n",
      "           5       0.34      0.62      0.44      2000\n",
      "           6       0.59      0.34      0.43      2000\n",
      "           7       0.19      0.18      0.19      2000\n",
      "           8       0.19      0.17      0.18      2000\n",
      "           9       0.18      0.09      0.12      2000\n",
      "\n",
      "   micro avg       0.35      0.35      0.35     19999\n",
      "   macro avg       0.35      0.35      0.33     19999\n",
      "weighted avg       0.35      0.35      0.33     19999\n",
      "\n"
     ]
    }
   ],
   "source": [
    "print(classification_report(USPSTar, USPS_TEST_OUT_U)) "
   ]
  },
  {
   "cell_type": "code",
   "execution_count": 301,
   "metadata": {},
   "outputs": [],
   "source": [
    "usps1 = np.asarray(USPS_TEST_OUT_U) #-------------------------------> USPS prediction 1\n",
    "usps1 = usps1.reshape(19999,)"
   ]
  },
  {
   "cell_type": "markdown",
   "metadata": {},
   "source": [
    "# 2 Neural Networks"
   ]
  },
  {
   "cell_type": "code",
   "execution_count": 375,
   "metadata": {},
   "outputs": [],
   "source": [
    "import pandas as pd\n",
    "import numpy as np\n",
    "import math\n",
    "import matplotlib.pyplot\n",
    "from keras.utils import np_utils\n",
    "from keras.utils import np_utils"
   ]
  },
  {
   "cell_type": "code",
   "execution_count": 376,
   "metadata": {},
   "outputs": [],
   "source": [
    "trainingdata = np.asmatrix(training_data[0])\n",
    "trainingtarget = np.asarray(training_data[1])\n",
    "\n",
    "valdata = np.asmatrix(validation_data[0])\n",
    "valtarget = np.asarray(validation_data[1])\n",
    "\n",
    "testdata = np.asmatrix(test_data[0])\n",
    "testtarget = np.asarray(test_data[1])"
   ]
  },
  {
   "cell_type": "code",
   "execution_count": 377,
   "metadata": {},
   "outputs": [],
   "source": [
    "def encodeLabel(labels):\n",
    "    return np_utils.to_categorical(np.array(labels),10)"
   ]
  },
  {
   "cell_type": "code",
   "execution_count": 378,
   "metadata": {},
   "outputs": [],
   "source": [
    "from keras.models import Sequential\n",
    "from keras.layers import Dense, Activation, Dropout\n",
    "from keras.callbacks import EarlyStopping, TensorBoard\n",
    "\n",
    "import numpy as np\n",
    "\n",
    "input_size =784\n",
    "drop_out = 0.2\n",
    "first_dense_layer_nodes  = 512\n",
    "second_dense_layer_nodes  = 256\n",
    "third_dense_layer_nodes  = 10\n",
    "\n",
    "def get_model():\n",
    "    \n",
    "    model = Sequential()\n",
    "    \n",
    "    model.add(Dense(first_dense_layer_nodes, input_dim=input_size))\n",
    "    model.add(Activation('relu'))\n",
    "    \n",
    "    model.add(Dropout(drop_out))\n",
    "    \n",
    "    model.add(Dense(second_dense_layer_nodes))\n",
    "    model.add(Activation('softmax'))\n",
    "    \n",
    "    model.add(Dropout(drop_out))\n",
    "    \n",
    "    model.add(Dense(third_dense_layer_nodes))\n",
    "    model.add(Activation('softmax'))\n",
    "    \n",
    "    model.summary()\n",
    "\n",
    "    model.compile(optimizer='adamax',\n",
    "                  loss='categorical_crossentropy',\n",
    "                  metrics=['accuracy'])\n",
    "    \n",
    "    return model"
   ]
  },
  {
   "cell_type": "code",
   "execution_count": 379,
   "metadata": {},
   "outputs": [
    {
     "name": "stdout",
     "output_type": "stream",
     "text": [
      "_________________________________________________________________\n",
      "Layer (type)                 Output Shape              Param #   \n",
      "=================================================================\n",
      "dense_4 (Dense)              (None, 512)               401920    \n",
      "_________________________________________________________________\n",
      "activation_4 (Activation)    (None, 512)               0         \n",
      "_________________________________________________________________\n",
      "dropout_3 (Dropout)          (None, 512)               0         \n",
      "_________________________________________________________________\n",
      "dense_5 (Dense)              (None, 256)               131328    \n",
      "_________________________________________________________________\n",
      "activation_5 (Activation)    (None, 256)               0         \n",
      "_________________________________________________________________\n",
      "dropout_4 (Dropout)          (None, 256)               0         \n",
      "_________________________________________________________________\n",
      "dense_6 (Dense)              (None, 10)                2570      \n",
      "_________________________________________________________________\n",
      "activation_6 (Activation)    (None, 10)                0         \n",
      "=================================================================\n",
      "Total params: 535,818\n",
      "Trainable params: 535,818\n",
      "Non-trainable params: 0\n",
      "_________________________________________________________________\n"
     ]
    }
   ],
   "source": [
    "model = get_model()"
   ]
  },
  {
   "cell_type": "code",
   "execution_count": 380,
   "metadata": {},
   "outputs": [
    {
     "name": "stdout",
     "output_type": "stream",
     "text": [
      "Train on 50000 samples, validate on 10000 samples\n",
      "Epoch 1/10000\n",
      "50000/50000 [==============================] - 6s 110us/step - loss: 1.9598 - acc: 0.4417 - val_loss: 1.6779 - val_acc: 0.5928\n",
      "Epoch 2/10000\n",
      "50000/50000 [==============================] - 5s 108us/step - loss: 1.5324 - acc: 0.4959 - val_loss: 1.2945 - val_acc: 0.5968\n",
      "Epoch 3/10000\n",
      "50000/50000 [==============================] - 5s 99us/step - loss: 1.2807 - acc: 0.5028 - val_loss: 1.0582 - val_acc: 0.6023\n",
      "Epoch 4/10000\n",
      "50000/50000 [==============================] - 5s 102us/step - loss: 1.1502 - acc: 0.5080 - val_loss: 0.9232 - val_acc: 0.6099\n",
      "Epoch 5/10000\n",
      "50000/50000 [==============================] - 6s 112us/step - loss: 1.0774 - acc: 0.5135 - val_loss: 0.8394 - val_acc: 0.6256\n",
      "Epoch 6/10000\n",
      "50000/50000 [==============================] - 5s 108us/step - loss: 1.0390 - acc: 0.5217 - val_loss: 0.7908 - val_acc: 0.6266\n",
      "Epoch 7/10000\n",
      "50000/50000 [==============================] - 6s 111us/step - loss: 1.0133 - acc: 0.5337 - val_loss: 0.7571 - val_acc: 0.6648\n",
      "Epoch 8/10000\n",
      "50000/50000 [==============================] - 6s 118us/step - loss: 0.9856 - acc: 0.5577 - val_loss: 0.7195 - val_acc: 0.6964\n",
      "Epoch 9/10000\n",
      "50000/50000 [==============================] - 5s 108us/step - loss: 0.9593 - acc: 0.5727 - val_loss: 0.6847 - val_acc: 0.7203\n",
      "Epoch 10/10000\n",
      "50000/50000 [==============================] - 6s 113us/step - loss: 0.9426 - acc: 0.5858 - val_loss: 0.6586 - val_acc: 0.7263\n",
      "Epoch 11/10000\n",
      "50000/50000 [==============================] - 6s 112us/step - loss: 0.9172 - acc: 0.6024 - val_loss: 0.6314 - val_acc: 0.7563\n",
      "Epoch 12/10000\n",
      "50000/50000 [==============================] - 5s 108us/step - loss: 0.8998 - acc: 0.6184 - val_loss: 0.6047 - val_acc: 0.7806\n",
      "Epoch 13/10000\n",
      "50000/50000 [==============================] - 6s 125us/step - loss: 0.8724 - acc: 0.6344 - val_loss: 0.5838 - val_acc: 0.7918\n",
      "Epoch 14/10000\n",
      "50000/50000 [==============================] - 6s 113us/step - loss: 0.8624 - acc: 0.6381 - val_loss: 0.5581 - val_acc: 0.7956\n",
      "Epoch 15/10000\n",
      "50000/50000 [==============================] - 5s 104us/step - loss: 0.8467 - acc: 0.6433 - val_loss: 0.5352 - val_acc: 0.8017\n",
      "Epoch 16/10000\n",
      "50000/50000 [==============================] - 5s 105us/step - loss: 0.8343 - acc: 0.6452 - val_loss: 0.5208 - val_acc: 0.8091\n",
      "Epoch 17/10000\n",
      "50000/50000 [==============================] - 5s 99us/step - loss: 0.8165 - acc: 0.6565 - val_loss: 0.5085 - val_acc: 0.8323\n",
      "Epoch 18/10000\n",
      "50000/50000 [==============================] - 5s 108us/step - loss: 0.8060 - acc: 0.6710 - val_loss: 0.4969 - val_acc: 0.8513\n",
      "Epoch 19/10000\n",
      "50000/50000 [==============================] - 5s 105us/step - loss: 0.7916 - acc: 0.6828 - val_loss: 0.4762 - val_acc: 0.8737\n",
      "Epoch 20/10000\n",
      "50000/50000 [==============================] - 5s 100us/step - loss: 0.7499 - acc: 0.7034 - val_loss: 0.4376 - val_acc: 0.8890\n",
      "Epoch 21/10000\n",
      "50000/50000 [==============================] - 5s 99us/step - loss: 0.7233 - acc: 0.7124 - val_loss: 0.4090 - val_acc: 0.9122\n",
      "Epoch 22/10000\n",
      "50000/50000 [==============================] - 5s 102us/step - loss: 0.6940 - acc: 0.7358 - val_loss: 0.3738 - val_acc: 0.9539\n",
      "Epoch 23/10000\n",
      "50000/50000 [==============================] - 5s 98us/step - loss: 0.6513 - acc: 0.7616 - val_loss: 0.3384 - val_acc: 0.9667\n",
      "Epoch 24/10000\n",
      "50000/50000 [==============================] - 5s 102us/step - loss: 0.6222 - acc: 0.7699 - val_loss: 0.3072 - val_acc: 0.9680\n",
      "Epoch 25/10000\n",
      "50000/50000 [==============================] - 6s 112us/step - loss: 0.5986 - acc: 0.7723 - val_loss: 0.2777 - val_acc: 0.9714\n",
      "Epoch 26/10000\n",
      "50000/50000 [==============================] - 5s 105us/step - loss: 0.5702 - acc: 0.7788 - val_loss: 0.2513 - val_acc: 0.9724\n",
      "Epoch 27/10000\n",
      "50000/50000 [==============================] - 5s 109us/step - loss: 0.5508 - acc: 0.7834 - val_loss: 0.2321 - val_acc: 0.9727\n",
      "Epoch 28/10000\n",
      "50000/50000 [==============================] - 5s 109us/step - loss: 0.5348 - acc: 0.7861 - val_loss: 0.2155 - val_acc: 0.9746\n",
      "Epoch 29/10000\n",
      "50000/50000 [==============================] - 6s 112us/step - loss: 0.5256 - acc: 0.7843 - val_loss: 0.2056 - val_acc: 0.9740\n",
      "Epoch 30/10000\n",
      "50000/50000 [==============================] - 5s 109us/step - loss: 0.5098 - acc: 0.7863 - val_loss: 0.1939 - val_acc: 0.9752\n",
      "Epoch 31/10000\n",
      "50000/50000 [==============================] - 6s 111us/step - loss: 0.5046 - acc: 0.7844 - val_loss: 0.1833 - val_acc: 0.9766\n",
      "Epoch 32/10000\n",
      "50000/50000 [==============================] - 5s 108us/step - loss: 0.4889 - acc: 0.7907 - val_loss: 0.1778 - val_acc: 0.9751\n",
      "Epoch 33/10000\n",
      "50000/50000 [==============================] - 5s 107us/step - loss: 0.4859 - acc: 0.7897 - val_loss: 0.1706 - val_acc: 0.9764\n",
      "Epoch 34/10000\n",
      "50000/50000 [==============================] - 6s 113us/step - loss: 0.4798 - acc: 0.7911 - val_loss: 0.1670 - val_acc: 0.9761\n",
      "Epoch 35/10000\n",
      "50000/50000 [==============================] - 5s 108us/step - loss: 0.4719 - acc: 0.7922 - val_loss: 0.1612 - val_acc: 0.9771\n",
      "Epoch 36/10000\n",
      "50000/50000 [==============================] - 6s 110us/step - loss: 0.4653 - acc: 0.7936 - val_loss: 0.1572 - val_acc: 0.9772\n",
      "Epoch 37/10000\n",
      "50000/50000 [==============================] - 6s 116us/step - loss: 0.4602 - acc: 0.7985 - val_loss: 0.1547 - val_acc: 0.9773\n",
      "Epoch 38/10000\n",
      "50000/50000 [==============================] - 5s 108us/step - loss: 0.4563 - acc: 0.8054 - val_loss: 0.1537 - val_acc: 0.9766\n",
      "Epoch 39/10000\n",
      "50000/50000 [==============================] - 5s 108us/step - loss: 0.4522 - acc: 0.8077 - val_loss: 0.1516 - val_acc: 0.9779\n",
      "Epoch 40/10000\n",
      "50000/50000 [==============================] - 6s 114us/step - loss: 0.4432 - acc: 0.8118 - val_loss: 0.1460 - val_acc: 0.9770\n",
      "Epoch 41/10000\n",
      "50000/50000 [==============================] - 5s 109us/step - loss: 0.4411 - acc: 0.8111 - val_loss: 0.1441 - val_acc: 0.9777\n",
      "Epoch 42/10000\n",
      "50000/50000 [==============================] - 6s 110us/step - loss: 0.4434 - acc: 0.8060 - val_loss: 0.1446 - val_acc: 0.9781\n",
      "Epoch 43/10000\n",
      "50000/50000 [==============================] - 6s 116us/step - loss: 0.4448 - acc: 0.8064 - val_loss: 0.1417 - val_acc: 0.9785\n",
      "Epoch 44/10000\n",
      "50000/50000 [==============================] - 5s 108us/step - loss: 0.4364 - acc: 0.8079 - val_loss: 0.1384 - val_acc: 0.9785\n",
      "Epoch 45/10000\n",
      "50000/50000 [==============================] - 5s 108us/step - loss: 0.4285 - acc: 0.8107 - val_loss: 0.1381 - val_acc: 0.9776\n",
      "Epoch 46/10000\n",
      "50000/50000 [==============================] - 6s 113us/step - loss: 0.4224 - acc: 0.8141 - val_loss: 0.1397 - val_acc: 0.9784\n",
      "Epoch 47/10000\n",
      "50000/50000 [==============================] - 5s 108us/step - loss: 0.4231 - acc: 0.8272 - val_loss: 0.1384 - val_acc: 0.9792\n",
      "Epoch 48/10000\n",
      "50000/50000 [==============================] - 6s 113us/step - loss: 0.4128 - acc: 0.8353 - val_loss: 0.1394 - val_acc: 0.9779\n",
      "Epoch 49/10000\n",
      "50000/50000 [==============================] - 6s 120us/step - loss: 0.4097 - acc: 0.8375 - val_loss: 0.1382 - val_acc: 0.9785\n",
      "Epoch 50/10000\n",
      "50000/50000 [==============================] - 5s 110us/step - loss: 0.4004 - acc: 0.8411 - val_loss: 0.1372 - val_acc: 0.9795\n",
      "Epoch 51/10000\n",
      "50000/50000 [==============================] - 5s 109us/step - loss: 0.3981 - acc: 0.8408 - val_loss: 0.1382 - val_acc: 0.9789\n",
      "Epoch 52/10000\n",
      "50000/50000 [==============================] - 6s 113us/step - loss: 0.3950 - acc: 0.8410 - val_loss: 0.1333 - val_acc: 0.9786\n",
      "Epoch 53/10000\n",
      "50000/50000 [==============================] - 5s 109us/step - loss: 0.3865 - acc: 0.8440 - val_loss: 0.1309 - val_acc: 0.9784\n",
      "Epoch 54/10000\n",
      "50000/50000 [==============================] - 6s 112us/step - loss: 0.3850 - acc: 0.8435 - val_loss: 0.1299 - val_acc: 0.9788\n",
      "Epoch 55/10000\n",
      "50000/50000 [==============================] - 5s 108us/step - loss: 0.3812 - acc: 0.8434 - val_loss: 0.1272 - val_acc: 0.9791\n",
      "Epoch 56/10000\n",
      "50000/50000 [==============================] - 5s 108us/step - loss: 0.3689 - acc: 0.8485 - val_loss: 0.1267 - val_acc: 0.9784\n",
      "Epoch 57/10000\n",
      "50000/50000 [==============================] - 6s 118us/step - loss: 0.3695 - acc: 0.8478 - val_loss: 0.1266 - val_acc: 0.9792\n",
      "Epoch 58/10000\n"
     ]
    },
    {
     "name": "stdout",
     "output_type": "stream",
     "text": [
      "50000/50000 [==============================] - 6s 110us/step - loss: 0.3630 - acc: 0.8507 - val_loss: 0.1260 - val_acc: 0.9784\n",
      "Epoch 59/10000\n",
      "50000/50000 [==============================] - 6s 115us/step - loss: 0.3600 - acc: 0.8528 - val_loss: 0.1234 - val_acc: 0.9796\n",
      "Epoch 60/10000\n",
      "50000/50000 [==============================] - 6s 120us/step - loss: 0.3616 - acc: 0.8525 - val_loss: 0.1257 - val_acc: 0.9789\n",
      "Epoch 61/10000\n",
      "50000/50000 [==============================] - 6s 115us/step - loss: 0.3481 - acc: 0.8587 - val_loss: 0.1243 - val_acc: 0.9795\n",
      "Epoch 62/10000\n",
      "50000/50000 [==============================] - 5s 110us/step - loss: 0.3449 - acc: 0.8639 - val_loss: 0.1276 - val_acc: 0.9786\n",
      "Epoch 63/10000\n",
      "50000/50000 [==============================] - 5s 108us/step - loss: 0.3319 - acc: 0.8739 - val_loss: 0.1208 - val_acc: 0.9796\n",
      "Epoch 64/10000\n",
      "50000/50000 [==============================] - 5s 102us/step - loss: 0.3169 - acc: 0.8840 - val_loss: 0.1169 - val_acc: 0.9806\n",
      "Epoch 65/10000\n",
      "50000/50000 [==============================] - 5s 104us/step - loss: 0.3092 - acc: 0.8886 - val_loss: 0.1121 - val_acc: 0.9798\n",
      "Epoch 66/10000\n",
      "50000/50000 [==============================] - 6s 120us/step - loss: 0.3021 - acc: 0.8936 - val_loss: 0.1085 - val_acc: 0.9810\n",
      "Epoch 67/10000\n",
      "50000/50000 [==============================] - 5s 107us/step - loss: 0.2909 - acc: 0.8987 - val_loss: 0.1054 - val_acc: 0.9808\n",
      "Epoch 68/10000\n",
      "50000/50000 [==============================] - 6s 115us/step - loss: 0.2915 - acc: 0.8973 - val_loss: 0.1041 - val_acc: 0.9804\n",
      "Epoch 69/10000\n",
      "50000/50000 [==============================] - 6s 119us/step - loss: 0.2836 - acc: 0.8992 - val_loss: 0.1038 - val_acc: 0.9799\n",
      "Epoch 70/10000\n",
      "50000/50000 [==============================] - 6s 120us/step - loss: 0.2920 - acc: 0.8944 - val_loss: 0.1034 - val_acc: 0.9802\n",
      "Epoch 71/10000\n",
      "50000/50000 [==============================] - 6s 111us/step - loss: 0.2796 - acc: 0.8990 - val_loss: 0.1019 - val_acc: 0.9802\n",
      "Epoch 72/10000\n",
      "50000/50000 [==============================] - 6s 124us/step - loss: 0.2791 - acc: 0.8974 - val_loss: 0.1035 - val_acc: 0.9798\n",
      "Epoch 73/10000\n",
      "50000/50000 [==============================] - 6s 116us/step - loss: 0.2778 - acc: 0.8963 - val_loss: 0.1022 - val_acc: 0.9798\n",
      "Epoch 74/10000\n",
      "50000/50000 [==============================] - 6s 125us/step - loss: 0.2725 - acc: 0.8988 - val_loss: 0.1004 - val_acc: 0.9818\n",
      "Epoch 75/10000\n",
      "50000/50000 [==============================] - 6s 114us/step - loss: 0.2664 - acc: 0.9015 - val_loss: 0.1027 - val_acc: 0.9801\n",
      "Epoch 76/10000\n",
      "50000/50000 [==============================] - 5s 107us/step - loss: 0.2650 - acc: 0.9028 - val_loss: 0.1025 - val_acc: 0.9806\n",
      "Epoch 77/10000\n",
      "50000/50000 [==============================] - 6s 129us/step - loss: 0.2621 - acc: 0.9052 - val_loss: 0.1040 - val_acc: 0.9795\n",
      "Epoch 78/10000\n",
      "50000/50000 [==============================] - 6s 113us/step - loss: 0.2563 - acc: 0.9084 - val_loss: 0.1028 - val_acc: 0.9806\n",
      "Epoch 79/10000\n",
      "50000/50000 [==============================] - 6s 112us/step - loss: 0.2549 - acc: 0.9098 - val_loss: 0.1002 - val_acc: 0.9805\n",
      "Epoch 80/10000\n",
      "50000/50000 [==============================] - 6s 116us/step - loss: 0.2456 - acc: 0.9130 - val_loss: 0.0987 - val_acc: 0.9808\n",
      "Epoch 81/10000\n",
      "50000/50000 [==============================] - 6s 117us/step - loss: 0.2451 - acc: 0.9117 - val_loss: 0.0970 - val_acc: 0.9814\n",
      "Epoch 82/10000\n",
      "50000/50000 [==============================] - 6s 122us/step - loss: 0.2344 - acc: 0.9150 - val_loss: 0.0984 - val_acc: 0.9801\n",
      "Epoch 83/10000\n",
      "50000/50000 [==============================] - 5s 107us/step - loss: 0.2402 - acc: 0.9125 - val_loss: 0.0962 - val_acc: 0.9802\n",
      "Epoch 84/10000\n",
      "50000/50000 [==============================] - 6s 129us/step - loss: 0.2358 - acc: 0.9144 - val_loss: 0.0954 - val_acc: 0.9810\n",
      "Epoch 85/10000\n",
      "50000/50000 [==============================] - 6s 116us/step - loss: 0.2333 - acc: 0.9128 - val_loss: 0.0971 - val_acc: 0.9802\n",
      "Epoch 86/10000\n",
      "50000/50000 [==============================] - 6s 112us/step - loss: 0.2265 - acc: 0.9161 - val_loss: 0.0964 - val_acc: 0.9803\n",
      "Epoch 87/10000\n",
      "50000/50000 [==============================] - 6s 120us/step - loss: 0.2260 - acc: 0.9155 - val_loss: 0.0977 - val_acc: 0.9804\n",
      "Epoch 88/10000\n",
      "50000/50000 [==============================] - 6s 121us/step - loss: 0.2196 - acc: 0.9185 - val_loss: 0.0967 - val_acc: 0.9805\n",
      "Epoch 89/10000\n",
      "50000/50000 [==============================] - 6s 111us/step - loss: 0.2277 - acc: 0.9145 - val_loss: 0.0961 - val_acc: 0.9812\n",
      "Epoch 90/10000\n",
      "50000/50000 [==============================] - 6s 119us/step - loss: 0.2203 - acc: 0.9159 - val_loss: 0.0960 - val_acc: 0.9817\n",
      "Epoch 91/10000\n",
      "50000/50000 [==============================] - 5s 109us/step - loss: 0.2186 - acc: 0.9165 - val_loss: 0.0974 - val_acc: 0.9806\n",
      "Epoch 92/10000\n",
      "50000/50000 [==============================] - 5s 101us/step - loss: 0.2170 - acc: 0.9172 - val_loss: 0.0983 - val_acc: 0.9807\n",
      "Epoch 93/10000\n",
      "50000/50000 [==============================] - 5s 102us/step - loss: 0.2183 - acc: 0.9160 - val_loss: 0.0973 - val_acc: 0.9809\n",
      "Epoch 94/10000\n",
      "50000/50000 [==============================] - 5s 104us/step - loss: 0.2187 - acc: 0.9150 - val_loss: 0.0984 - val_acc: 0.9803\n",
      "Epoch 95/10000\n",
      "50000/50000 [==============================] - 5s 101us/step - loss: 0.2149 - acc: 0.9169 - val_loss: 0.0962 - val_acc: 0.9810\n",
      "Epoch 96/10000\n",
      "50000/50000 [==============================] - 5s 108us/step - loss: 0.2121 - acc: 0.9164 - val_loss: 0.0974 - val_acc: 0.9811\n",
      "Epoch 97/10000\n",
      "50000/50000 [==============================] - 6s 116us/step - loss: 0.2098 - acc: 0.9183 - val_loss: 0.0953 - val_acc: 0.9813\n",
      "Epoch 98/10000\n",
      "50000/50000 [==============================] - 5s 105us/step - loss: 0.2073 - acc: 0.9188 - val_loss: 0.0972 - val_acc: 0.9809\n",
      "Epoch 99/10000\n",
      "50000/50000 [==============================] - 5s 105us/step - loss: 0.2158 - acc: 0.9147 - val_loss: 0.0973 - val_acc: 0.9805\n",
      "Epoch 100/10000\n",
      "50000/50000 [==============================] - 5s 103us/step - loss: 0.2064 - acc: 0.9176 - val_loss: 0.0969 - val_acc: 0.9816\n",
      "Epoch 101/10000\n",
      "50000/50000 [==============================] - 5s 101us/step - loss: 0.2061 - acc: 0.9193 - val_loss: 0.0980 - val_acc: 0.9812\n",
      "Epoch 102/10000\n",
      "50000/50000 [==============================] - 5s 101us/step - loss: 0.2085 - acc: 0.9171 - val_loss: 0.0978 - val_acc: 0.9804\n",
      "Epoch 103/10000\n",
      "50000/50000 [==============================] - 6s 117us/step - loss: 0.2005 - acc: 0.9216 - val_loss: 0.0980 - val_acc: 0.9806\n",
      "Epoch 104/10000\n",
      "50000/50000 [==============================] - 6s 111us/step - loss: 0.2041 - acc: 0.9202 - val_loss: 0.1000 - val_acc: 0.9804\n",
      "Epoch 105/10000\n",
      "50000/50000 [==============================] - 6s 121us/step - loss: 0.2016 - acc: 0.9207 - val_loss: 0.0985 - val_acc: 0.9816\n",
      "Epoch 106/10000\n",
      "50000/50000 [==============================] - 5s 101us/step - loss: 0.2014 - acc: 0.9211 - val_loss: 0.0978 - val_acc: 0.9810\n",
      "Epoch 107/10000\n",
      "50000/50000 [==============================] - 6s 119us/step - loss: 0.1953 - acc: 0.9226 - val_loss: 0.0968 - val_acc: 0.9818\n",
      "Epoch 108/10000\n",
      "50000/50000 [==============================] - 6s 118us/step - loss: 0.1956 - acc: 0.9227 - val_loss: 0.1015 - val_acc: 0.9791\n",
      "Epoch 109/10000\n",
      "50000/50000 [==============================] - 5s 103us/step - loss: 0.1911 - acc: 0.9259 - val_loss: 0.1015 - val_acc: 0.9813\n",
      "Epoch 110/10000\n",
      "50000/50000 [==============================] - 5s 106us/step - loss: 0.1917 - acc: 0.9250 - val_loss: 0.0992 - val_acc: 0.9807\n",
      "Epoch 111/10000\n",
      "50000/50000 [==============================] - 5s 106us/step - loss: 0.1955 - acc: 0.9236 - val_loss: 0.1009 - val_acc: 0.9814\n",
      "Epoch 112/10000\n",
      "50000/50000 [==============================] - 5s 102us/step - loss: 0.1884 - acc: 0.9265 - val_loss: 0.0996 - val_acc: 0.9802\n",
      "Epoch 113/10000\n",
      "50000/50000 [==============================] - 5s 105us/step - loss: 0.1891 - acc: 0.9253 - val_loss: 0.0993 - val_acc: 0.9806\n",
      "Epoch 114/10000\n",
      "50000/50000 [==============================] - 6s 116us/step - loss: 0.1946 - acc: 0.9227 - val_loss: 0.1019 - val_acc: 0.9802\n",
      "Epoch 115/10000\n"
     ]
    },
    {
     "name": "stdout",
     "output_type": "stream",
     "text": [
      "50000/50000 [==============================] - 5s 100us/step - loss: 0.1901 - acc: 0.9239 - val_loss: 0.0995 - val_acc: 0.9806\n",
      "Epoch 116/10000\n",
      "50000/50000 [==============================] - 5s 100us/step - loss: 0.1883 - acc: 0.9252 - val_loss: 0.1007 - val_acc: 0.9803\n",
      "Epoch 117/10000\n",
      "50000/50000 [==============================] - 5s 105us/step - loss: 0.1901 - acc: 0.9248 - val_loss: 0.1032 - val_acc: 0.9810\n",
      "Epoch 118/10000\n",
      "50000/50000 [==============================] - 5s 100us/step - loss: 0.1877 - acc: 0.9262 - val_loss: 0.1033 - val_acc: 0.9809\n",
      "Epoch 119/10000\n",
      "50000/50000 [==============================] - 5s 103us/step - loss: 0.1840 - acc: 0.9267 - val_loss: 0.1038 - val_acc: 0.9811\n",
      "Epoch 120/10000\n",
      "50000/50000 [==============================] - 6s 123us/step - loss: 0.1844 - acc: 0.9266 - val_loss: 0.1024 - val_acc: 0.9820\n",
      "Epoch 121/10000\n",
      "50000/50000 [==============================] - 6s 110us/step - loss: 0.1815 - acc: 0.9291 - val_loss: 0.1038 - val_acc: 0.9814\n",
      "Epoch 122/10000\n",
      "50000/50000 [==============================] - 6s 111us/step - loss: 0.1825 - acc: 0.9280 - val_loss: 0.1037 - val_acc: 0.9809\n",
      "Epoch 123/10000\n",
      "50000/50000 [==============================] - 6s 120us/step - loss: 0.1841 - acc: 0.9276 - val_loss: 0.1034 - val_acc: 0.9804\n",
      "Epoch 124/10000\n",
      "50000/50000 [==============================] - 5s 105us/step - loss: 0.1795 - acc: 0.9295 - val_loss: 0.1039 - val_acc: 0.9812\n",
      "Epoch 125/10000\n",
      "50000/50000 [==============================] - 5s 107us/step - loss: 0.1864 - acc: 0.9272 - val_loss: 0.1041 - val_acc: 0.9812\n",
      "Epoch 126/10000\n",
      "50000/50000 [==============================] - 5s 109us/step - loss: 0.1827 - acc: 0.9284 - val_loss: 0.1037 - val_acc: 0.9804\n",
      "Epoch 127/10000\n",
      "50000/50000 [==============================] - 5s 102us/step - loss: 0.1838 - acc: 0.9282 - val_loss: 0.1062 - val_acc: 0.9802\n",
      "Epoch 128/10000\n",
      "50000/50000 [==============================] - 5s 103us/step - loss: 0.1753 - acc: 0.9303 - val_loss: 0.1064 - val_acc: 0.9801\n",
      "Epoch 129/10000\n",
      "50000/50000 [==============================] - 5s 108us/step - loss: 0.1765 - acc: 0.9303 - val_loss: 0.1084 - val_acc: 0.9805\n",
      "Epoch 130/10000\n",
      "50000/50000 [==============================] - 6s 110us/step - loss: 0.1791 - acc: 0.9307 - val_loss: 0.1059 - val_acc: 0.9811\n",
      "Epoch 131/10000\n",
      "50000/50000 [==============================] - 5s 99us/step - loss: 0.1797 - acc: 0.9291 - val_loss: 0.1052 - val_acc: 0.9805\n",
      "Epoch 132/10000\n",
      "50000/50000 [==============================] - 5s 105us/step - loss: 0.1754 - acc: 0.9299 - val_loss: 0.1036 - val_acc: 0.9808\n",
      "Epoch 133/10000\n",
      "50000/50000 [==============================] - 5s 99us/step - loss: 0.1771 - acc: 0.9293 - val_loss: 0.1044 - val_acc: 0.9804\n",
      "Epoch 134/10000\n",
      "50000/50000 [==============================] - 5s 99us/step - loss: 0.1727 - acc: 0.9308 - val_loss: 0.1039 - val_acc: 0.9811\n",
      "Epoch 135/10000\n",
      "50000/50000 [==============================] - 5s 106us/step - loss: 0.1758 - acc: 0.9294 - val_loss: 0.1071 - val_acc: 0.9812\n",
      "Epoch 136/10000\n",
      "50000/50000 [==============================] - 5s 104us/step - loss: 0.1733 - acc: 0.9330 - val_loss: 0.1042 - val_acc: 0.9806\n",
      "Epoch 137/10000\n",
      "50000/50000 [==============================] - 5s 102us/step - loss: 0.1759 - acc: 0.9303 - val_loss: 0.1046 - val_acc: 0.9812\n",
      "Epoch 138/10000\n",
      "50000/50000 [==============================] - 5s 108us/step - loss: 0.1763 - acc: 0.9309 - val_loss: 0.1077 - val_acc: 0.9804\n",
      "Epoch 139/10000\n",
      "50000/50000 [==============================] - 5s 100us/step - loss: 0.1718 - acc: 0.9320 - val_loss: 0.1074 - val_acc: 0.9811\n",
      "Epoch 140/10000\n",
      "50000/50000 [==============================] - 5s 102us/step - loss: 0.1743 - acc: 0.9318 - val_loss: 0.1062 - val_acc: 0.9807\n",
      "Epoch 141/10000\n",
      "50000/50000 [==============================] - 5s 106us/step - loss: 0.1734 - acc: 0.9311 - val_loss: 0.1072 - val_acc: 0.9806\n",
      "Epoch 142/10000\n",
      "50000/50000 [==============================] - 5s 100us/step - loss: 0.1722 - acc: 0.9313 - val_loss: 0.1089 - val_acc: 0.9805\n",
      "Epoch 143/10000\n",
      "50000/50000 [==============================] - 5s 99us/step - loss: 0.1720 - acc: 0.9311 - val_loss: 0.1085 - val_acc: 0.9805\n",
      "Epoch 144/10000\n",
      "50000/50000 [==============================] - 6s 116us/step - loss: 0.1729 - acc: 0.9308 - val_loss: 0.1054 - val_acc: 0.9800\n",
      "Epoch 145/10000\n",
      "50000/50000 [==============================] - 5s 103us/step - loss: 0.1734 - acc: 0.9300 - val_loss: 0.1068 - val_acc: 0.9812\n",
      "Epoch 146/10000\n",
      "50000/50000 [==============================] - 5s 101us/step - loss: 0.1679 - acc: 0.9323 - val_loss: 0.1088 - val_acc: 0.9807\n",
      "Epoch 147/10000\n",
      "50000/50000 [==============================] - 5s 103us/step - loss: 0.1670 - acc: 0.9315 - val_loss: 0.1075 - val_acc: 0.9816\n",
      "Epoch 148/10000\n",
      "50000/50000 [==============================] - 5s 105us/step - loss: 0.1679 - acc: 0.9325 - val_loss: 0.1103 - val_acc: 0.9811\n",
      "Epoch 149/10000\n",
      "50000/50000 [==============================] - 5s 101us/step - loss: 0.1710 - acc: 0.9301 - val_loss: 0.1090 - val_acc: 0.9798\n",
      "Epoch 150/10000\n",
      "50000/50000 [==============================] - 6s 110us/step - loss: 0.1657 - acc: 0.9336 - val_loss: 0.1091 - val_acc: 0.9810\n",
      "Epoch 151/10000\n",
      "50000/50000 [==============================] - 5s 109us/step - loss: 0.1662 - acc: 0.9323 - val_loss: 0.1105 - val_acc: 0.9802\n",
      "Epoch 152/10000\n",
      "50000/50000 [==============================] - 6s 110us/step - loss: 0.1677 - acc: 0.9312 - val_loss: 0.1133 - val_acc: 0.9802\n",
      "Epoch 153/10000\n",
      "50000/50000 [==============================] - 5s 107us/step - loss: 0.1717 - acc: 0.9310 - val_loss: 0.1108 - val_acc: 0.9809\n",
      "Epoch 154/10000\n",
      "50000/50000 [==============================] - 5s 103us/step - loss: 0.1695 - acc: 0.9313 - val_loss: 0.1105 - val_acc: 0.9812\n",
      "Epoch 155/10000\n",
      "50000/50000 [==============================] - 5s 99us/step - loss: 0.1713 - acc: 0.9320 - val_loss: 0.1115 - val_acc: 0.9808\n",
      "Epoch 156/10000\n",
      "50000/50000 [==============================] - 5s 98us/step - loss: 0.1697 - acc: 0.9321 - val_loss: 0.1122 - val_acc: 0.9801\n",
      "Epoch 157/10000\n",
      "50000/50000 [==============================] - 6s 112us/step - loss: 0.1661 - acc: 0.9335 - val_loss: 0.1158 - val_acc: 0.9800\n",
      "Epoch 158/10000\n",
      "50000/50000 [==============================] - 5s 109us/step - loss: 0.1628 - acc: 0.9347 - val_loss: 0.1122 - val_acc: 0.9802\n",
      "Epoch 159/10000\n",
      "50000/50000 [==============================] - 5s 104us/step - loss: 0.1603 - acc: 0.9352 - val_loss: 0.1128 - val_acc: 0.9806\n",
      "Epoch 160/10000\n",
      "50000/50000 [==============================] - 5s 106us/step - loss: 0.1681 - acc: 0.9315 - val_loss: 0.1119 - val_acc: 0.9806\n",
      "Epoch 161/10000\n",
      "50000/50000 [==============================] - 5s 103us/step - loss: 0.1646 - acc: 0.9321 - val_loss: 0.1125 - val_acc: 0.9810\n",
      "Epoch 162/10000\n",
      "50000/50000 [==============================] - 5s 99us/step - loss: 0.1637 - acc: 0.9316 - val_loss: 0.1133 - val_acc: 0.9807\n",
      "Epoch 163/10000\n",
      "50000/50000 [==============================] - 5s 108us/step - loss: 0.1615 - acc: 0.9343 - val_loss: 0.1125 - val_acc: 0.9797\n",
      "Epoch 164/10000\n",
      "50000/50000 [==============================] - 5s 101us/step - loss: 0.1645 - acc: 0.9325 - val_loss: 0.1157 - val_acc: 0.9801\n",
      "Epoch 165/10000\n",
      "50000/50000 [==============================] - 5s 100us/step - loss: 0.1643 - acc: 0.9316 - val_loss: 0.1164 - val_acc: 0.9788\n",
      "Epoch 166/10000\n",
      "50000/50000 [==============================] - 5s 107us/step - loss: 0.1631 - acc: 0.9329 - val_loss: 0.1115 - val_acc: 0.9806\n",
      "Epoch 167/10000\n",
      "50000/50000 [==============================] - 5s 109us/step - loss: 0.1614 - acc: 0.9329 - val_loss: 0.1144 - val_acc: 0.9802\n",
      "Epoch 168/10000\n",
      "50000/50000 [==============================] - 5s 101us/step - loss: 0.1631 - acc: 0.9323 - val_loss: 0.1156 - val_acc: 0.9800\n",
      "Epoch 169/10000\n",
      "50000/50000 [==============================] - 5s 108us/step - loss: 0.1636 - acc: 0.9322 - val_loss: 0.1170 - val_acc: 0.9797\n",
      "Epoch 170/10000\n",
      "50000/50000 [==============================] - 5s 106us/step - loss: 0.1633 - acc: 0.9327 - val_loss: 0.1136 - val_acc: 0.9803\n",
      "Epoch 171/10000\n",
      "50000/50000 [==============================] - 5s 103us/step - loss: 0.1660 - acc: 0.9311 - val_loss: 0.1124 - val_acc: 0.9801\n",
      "Epoch 172/10000\n"
     ]
    },
    {
     "name": "stdout",
     "output_type": "stream",
     "text": [
      "50000/50000 [==============================] - 5s 108us/step - loss: 0.1611 - acc: 0.9344 - val_loss: 0.1141 - val_acc: 0.9805\n",
      "Epoch 173/10000\n",
      "50000/50000 [==============================] - 5s 104us/step - loss: 0.1609 - acc: 0.9328 - val_loss: 0.1183 - val_acc: 0.9805\n",
      "Epoch 174/10000\n",
      "50000/50000 [==============================] - 5s 107us/step - loss: 0.1581 - acc: 0.9342 - val_loss: 0.1151 - val_acc: 0.9798\n",
      "Epoch 175/10000\n",
      "50000/50000 [==============================] - 5s 109us/step - loss: 0.1644 - acc: 0.9325 - val_loss: 0.1120 - val_acc: 0.9808\n",
      "Epoch 176/10000\n",
      "50000/50000 [==============================] - 5s 102us/step - loss: 0.1600 - acc: 0.9343 - val_loss: 0.1161 - val_acc: 0.9804\n",
      "Epoch 177/10000\n",
      "50000/50000 [==============================] - 5s 99us/step - loss: 0.1610 - acc: 0.9324 - val_loss: 0.1171 - val_acc: 0.9796\n",
      "Epoch 178/10000\n",
      "50000/50000 [==============================] - 5s 103us/step - loss: 0.1614 - acc: 0.9326 - val_loss: 0.1153 - val_acc: 0.9799\n",
      "Epoch 179/10000\n",
      "50000/50000 [==============================] - 6s 111us/step - loss: 0.1631 - acc: 0.9299 - val_loss: 0.1150 - val_acc: 0.9808\n",
      "Epoch 180/10000\n",
      "50000/50000 [==============================] - 5s 100us/step - loss: 0.1654 - acc: 0.9306 - val_loss: 0.1195 - val_acc: 0.9802\n",
      "Epoch 181/10000\n",
      "50000/50000 [==============================] - 5s 103us/step - loss: 0.1589 - acc: 0.9339 - val_loss: 0.1191 - val_acc: 0.9805\n",
      "Epoch 182/10000\n",
      "50000/50000 [==============================] - 5s 100us/step - loss: 0.1623 - acc: 0.9326 - val_loss: 0.1196 - val_acc: 0.9801\n",
      "Epoch 183/10000\n",
      "50000/50000 [==============================] - 5s 110us/step - loss: 0.1589 - acc: 0.9344 - val_loss: 0.1208 - val_acc: 0.9802\n",
      "Epoch 184/10000\n",
      "50000/50000 [==============================] - 5s 107us/step - loss: 0.1581 - acc: 0.9337 - val_loss: 0.1181 - val_acc: 0.9802\n",
      "Epoch 185/10000\n",
      "50000/50000 [==============================] - 5s 100us/step - loss: 0.1577 - acc: 0.9340 - val_loss: 0.1191 - val_acc: 0.9805\n",
      "Epoch 186/10000\n",
      "50000/50000 [==============================] - 5s 102us/step - loss: 0.1585 - acc: 0.9316 - val_loss: 0.1165 - val_acc: 0.9802\n",
      "Epoch 187/10000\n",
      "50000/50000 [==============================] - 6s 117us/step - loss: 0.1622 - acc: 0.9321 - val_loss: 0.1178 - val_acc: 0.9805\n",
      "Epoch 188/10000\n",
      "50000/50000 [==============================] - 5s 101us/step - loss: 0.1563 - acc: 0.9339 - val_loss: 0.1172 - val_acc: 0.9805\n",
      "Epoch 189/10000\n",
      "50000/50000 [==============================] - 5s 102us/step - loss: 0.1540 - acc: 0.9342 - val_loss: 0.1188 - val_acc: 0.9806\n",
      "Epoch 190/10000\n",
      "50000/50000 [==============================] - 5s 109us/step - loss: 0.1569 - acc: 0.9341 - val_loss: 0.1176 - val_acc: 0.9803\n",
      "Epoch 191/10000\n",
      "50000/50000 [==============================] - 6s 111us/step - loss: 0.1578 - acc: 0.9323 - val_loss: 0.1192 - val_acc: 0.9807\n",
      "Epoch 192/10000\n",
      "50000/50000 [==============================] - 7s 147us/step - loss: 0.1569 - acc: 0.9322 - val_loss: 0.1195 - val_acc: 0.9808\n",
      "Epoch 193/10000\n",
      "50000/50000 [==============================] - 6s 126us/step - loss: 0.1556 - acc: 0.9337 - val_loss: 0.1190 - val_acc: 0.9815\n",
      "Epoch 194/10000\n",
      "50000/50000 [==============================] - 6s 125us/step - loss: 0.1573 - acc: 0.9328 - val_loss: 0.1184 - val_acc: 0.9806\n",
      "Epoch 195/10000\n",
      "50000/50000 [==============================] - 6s 127us/step - loss: 0.1545 - acc: 0.9345 - val_loss: 0.1205 - val_acc: 0.9802\n",
      "Epoch 196/10000\n",
      "50000/50000 [==============================] - 5s 109us/step - loss: 0.1535 - acc: 0.9352 - val_loss: 0.1175 - val_acc: 0.9811\n",
      "Epoch 197/10000\n",
      "50000/50000 [==============================] - 5s 102us/step - loss: 0.1570 - acc: 0.9330 - val_loss: 0.1207 - val_acc: 0.9799\n",
      "Epoch 00197: early stopping\n"
     ]
    }
   ],
   "source": [
    "validation_data_split = 0.2\n",
    "num_epochs = 10000\n",
    "model_batch_size = 128\n",
    "tb_batch_size = 32\n",
    "early_patience = 100\n",
    "\n",
    "tensorboard_cb   = TensorBoard(log_dir='logs', batch_size= tb_batch_size, write_graph= True)\n",
    "earlystopping_cb = EarlyStopping(monitor='val_loss', verbose=1, patience=early_patience, mode='min')\n",
    "\n",
    "trainingtarget1 = to_categorical(trainingtarget, 10)\n",
    "valtarget1 = to_categorical(valtarget,10)\n",
    "\n",
    "history = model.fit(trainingdata\n",
    "                    , trainingtarget1\n",
    "                    , validation_split=0.2\n",
    "                    , validation_data=(valdata,valtarget1)\n",
    "                    , epochs=num_epochs\n",
    "                    , batch_size=model_batch_size\n",
    "                    , callbacks = [tensorboard_cb,earlystopping_cb]\n",
    "                   )"
   ]
  },
  {
   "cell_type": "code",
   "execution_count": 381,
   "metadata": {},
   "outputs": [
    {
     "data": {
      "text/plain": [
       "array([<matplotlib.axes._subplots.AxesSubplot object at 0x0000022085969550>,\n",
       "       <matplotlib.axes._subplots.AxesSubplot object at 0x00000220849F5358>,\n",
       "       <matplotlib.axes._subplots.AxesSubplot object at 0x0000022084A32A58>,\n",
       "       <matplotlib.axes._subplots.AxesSubplot object at 0x0000022084A76C88>],\n",
       "      dtype=object)"
      ]
     },
     "execution_count": 381,
     "metadata": {},
     "output_type": "execute_result"
    },
    {
     "data": {
      "image/png": "[encoded data removed]",
      "text/plain": [
       "<Figure size 720x1080 with 4 Axes>"
      ]
     },
     "metadata": {
      "needs_background": "light"
     },
     "output_type": "display_data"
    }
   ],
   "source": [
    "%matplotlib inline\n",
    "df = pd.DataFrame(history.history)\n",
    "df.plot(subplots=True, grid=True, figsize=(10,15))"
   ]
  },
  {
   "cell_type": "code",
   "execution_count": 382,
   "metadata": {},
   "outputs": [],
   "source": [
    "testtarget1 = to_categorical(testtarget,10)"
   ]
  },
  {
   "cell_type": "code",
   "execution_count": 383,
   "metadata": {},
   "outputs": [],
   "source": [
    "testing = model.predict(testdata)\n",
    "testing = np.argmax(testing, axis=1)"
   ]
  },
  {
   "cell_type": "code",
   "execution_count": 384,
   "metadata": {},
   "outputs": [],
   "source": [
    "counter = 0\n",
    "\n",
    "for i in range (0,len(testing)):\n",
    "    if(testing[i] == testtarget[i]):\n",
    "        counter += 1\n",
    "acc_nn = (counter/len(testing))*100"
   ]
  },
  {
   "cell_type": "code",
   "execution_count": 385,
   "metadata": {},
   "outputs": [
    {
     "name": "stdout",
     "output_type": "stream",
     "text": [
      "Testing Accuracy ----->  97.92\n"
     ]
    }
   ],
   "source": [
    "print(\"Testing Accuracy ----->  \"+ str(np.around(acc_nn,4)))"
   ]
  },
  {
   "cell_type": "code",
   "execution_count": 386,
   "metadata": {},
   "outputs": [
    {
     "data": {
      "text/plain": [
       "array([[ 968,    1,    0,    0,    0,    0,    7,    0,    3,    1],\n",
       "       [   0, 1124,    2,    1,    0,    0,    1,    0,    7,    0],\n",
       "       [   1,    0, 1007,    2,    3,    0,    2,    9,    8,    0],\n",
       "       [   0,    0,    3,  988,    0,    8,    0,    2,    7,    2],\n",
       "       [   0,    0,    0,    0,  960,    0,    7,    1,    1,   13],\n",
       "       [   3,    0,    0,   10,    0,  865,    5,    0,    7,    2],\n",
       "       [   4,    2,    0,    0,    6,    2,  942,    0,    2,    0],\n",
       "       [   0,    1,   10,    1,    0,    0,    0, 1008,    4,    4],\n",
       "       [   0,    1,    2,    5,    6,    3,    1,    1,  952,    3],\n",
       "       [   2,    3,    0,    6,   11,    3,    1,    3,    2,  978]],\n",
       "      dtype=int64)"
      ]
     },
     "execution_count": 386,
     "metadata": {},
     "output_type": "execute_result"
    }
   ],
   "source": [
    "from sklearn.metrics import confusion_matrix\n",
    "y_true = testtarget\n",
    "y_pred = testing\n",
    "confusion_matrix(y_true, y_pred)"
   ]
  },
  {
   "cell_type": "code",
   "execution_count": 387,
   "metadata": {},
   "outputs": [
    {
     "name": "stdout",
     "output_type": "stream",
     "text": [
      "              precision    recall  f1-score   support\n",
      "\n",
      "           0       0.99      0.99      0.99       980\n",
      "           1       0.99      0.99      0.99      1135\n",
      "           2       0.98      0.98      0.98      1032\n",
      "           3       0.98      0.98      0.98      1010\n",
      "           4       0.97      0.98      0.98       982\n",
      "           5       0.98      0.97      0.98       892\n",
      "           6       0.98      0.98      0.98       958\n",
      "           7       0.98      0.98      0.98      1028\n",
      "           8       0.96      0.98      0.97       974\n",
      "           9       0.98      0.97      0.97      1009\n",
      "\n",
      "   micro avg       0.98      0.98      0.98     10000\n",
      "   macro avg       0.98      0.98      0.98     10000\n",
      "weighted avg       0.98      0.98      0.98     10000\n",
      "\n"
     ]
    }
   ],
   "source": [
    "print(classification_report(testtarget, testing)) "
   ]
  },
  {
   "cell_type": "code",
   "execution_count": 388,
   "metadata": {},
   "outputs": [],
   "source": [
    "mnist2 = np.asarray(y_pred) #-------------------------------> MNIST prediction 2"
   ]
  },
  {
   "cell_type": "code",
   "execution_count": 389,
   "metadata": {},
   "outputs": [],
   "source": [
    "USPSMat = np.asarray(USPSMat)\n",
    "testing = model.predict(USPSMat)\n",
    "testing1 = np.argmax(testing, axis=1)"
   ]
  },
  {
   "cell_type": "code",
   "execution_count": 390,
   "metadata": {},
   "outputs": [],
   "source": [
    "counter = 0\n",
    "\n",
    "for i in range (0,len(testing)):\n",
    "    if(testing1[i] == USPSTar[i]):\n",
    "        counter += 1\n",
    "acc_nn2 = (counter/len(testing))*100"
   ]
  },
  {
   "cell_type": "code",
   "execution_count": 391,
   "metadata": {},
   "outputs": [
    {
     "name": "stdout",
     "output_type": "stream",
     "text": [
      "Testing Accuracy ----->  45.7323\n"
     ]
    }
   ],
   "source": [
    "print(\"Testing Accuracy ----->  \"+ str(np.around(acc_nn2,4)))"
   ]
  },
  {
   "cell_type": "code",
   "execution_count": 392,
   "metadata": {},
   "outputs": [
    {
     "data": {
      "text/plain": [
       "array([[ 810,   34,   49,  181,  136,  271,   82,   62,   73,  302],\n",
       "       [  37,  488,  248,  105,  437,   80,    8,  207,  285,  105],\n",
       "       [  69,   31, 1434,   79,   11,   87,   52,   41,  186,    9],\n",
       "       [  17,   11,   48, 1588,    5,  175,    1,   16,  129,   10],\n",
       "       [  34,  190,   23,   44, 1157,   65,   31,  115,  273,   68],\n",
       "       [ 162,   24,   54,  394,    4, 1139,   38,   28,  141,   16],\n",
       "       [ 336,   15,  325,   43,   36,  147,  943,   50,   81,   24],\n",
       "       [  34,  128,  170,  641,   61,   27,    6,  589,  272,   72],\n",
       "       [ 135,   32,   49,  536,   57,  344,   72,   44,  672,   59],\n",
       "       [  14,  130,   72,  388,  146,   29,    5,  500,  390,  326]],\n",
       "      dtype=int64)"
      ]
     },
     "execution_count": 392,
     "metadata": {},
     "output_type": "execute_result"
    }
   ],
   "source": [
    "from sklearn.metrics import confusion_matrix\n",
    "y_true = USPSTar\n",
    "y_pred = testing1\n",
    "confusion_matrix(y_true, y_pred)"
   ]
  },
  {
   "cell_type": "code",
   "execution_count": 393,
   "metadata": {},
   "outputs": [
    {
     "name": "stdout",
     "output_type": "stream",
     "text": [
      "              precision    recall  f1-score   support\n",
      "\n",
      "           0       0.49      0.41      0.44      2000\n",
      "           1       0.45      0.24      0.32      2000\n",
      "           2       0.58      0.72      0.64      1999\n",
      "           3       0.40      0.79      0.53      2000\n",
      "           4       0.56      0.58      0.57      2000\n",
      "           5       0.48      0.57      0.52      2000\n",
      "           6       0.76      0.47      0.58      2000\n",
      "           7       0.36      0.29      0.32      2000\n",
      "           8       0.27      0.34      0.30      2000\n",
      "           9       0.33      0.16      0.22      2000\n",
      "\n",
      "   micro avg       0.46      0.46      0.46     19999\n",
      "   macro avg       0.47      0.46      0.44     19999\n",
      "weighted avg       0.47      0.46      0.44     19999\n",
      "\n"
     ]
    }
   ],
   "source": [
    "print(classification_report(USPSTar, testing1)) "
   ]
  },
  {
   "cell_type": "code",
   "execution_count": 394,
   "metadata": {},
   "outputs": [],
   "source": [
    "usps2 = testing1 #-------------------------------> USPS prediction 2"
   ]
  },
  {
   "cell_type": "markdown",
   "metadata": {},
   "source": [
    "# 3 Support Vector Machine"
   ]
  },
  {
   "cell_type": "code",
   "execution_count": 12,
   "metadata": {},
   "outputs": [],
   "source": [
    "from sklearn.svm import SVC  "
   ]
  },
  {
   "cell_type": "code",
   "execution_count": 13,
   "metadata": {},
   "outputs": [
    {
     "data": {
      "text/plain": [
       "SVC(C=1.0, cache_size=200, class_weight=None, coef0=0.0,\n",
       "  decision_function_shape='ovr', degree=3, gamma='auto_deprecated',\n",
       "  kernel='linear', max_iter=-1, probability=False, random_state=None,\n",
       "  shrinking=True, tol=0.001, verbose=False)"
      ]
     },
     "execution_count": 13,
     "metadata": {},
     "output_type": "execute_result"
    }
   ],
   "source": [
    "svclassifier = SVC(kernel='linear')  \n",
    "svclassifier.fit(trainingdata, trainingtarget)"
   ]
  },
  {
   "cell_type": "code",
   "execution_count": 223,
   "metadata": {},
   "outputs": [],
   "source": [
    "pred_target1 = svclassifier.predict(testdata)"
   ]
  },
  {
   "cell_type": "code",
   "execution_count": 268,
   "metadata": {},
   "outputs": [],
   "source": [
    "counter = 0\n",
    "\n",
    "for i in range (0,len(testtarget)):\n",
    "    if(pred_target1[i] == testtarget[i]):\n",
    "        counter += 1\n",
    "acc_svm = (counter/len(testtarget))*100"
   ]
  },
  {
   "cell_type": "code",
   "execution_count": 269,
   "metadata": {},
   "outputs": [
    {
     "name": "stdout",
     "output_type": "stream",
     "text": [
      "Testing Accuracy ----->  93.9\n"
     ]
    }
   ],
   "source": [
    "print(\"Testing Accuracy ----->  \"+ str(np.around(acc_svm,4)))"
   ]
  },
  {
   "cell_type": "code",
   "execution_count": 350,
   "metadata": {},
   "outputs": [
    {
     "name": "stdout",
     "output_type": "stream",
     "text": [
      "[[ 959    0    5    2    2    4    7    0    1    0]\n",
      " [   0 1121    3    3    0    1    2    1    4    0]\n",
      " [   6    8  968    9    3    2   11   10   13    2]\n",
      " [   5    2   17  944    4   13    1    8   13    3]\n",
      " [   2    1   10    1  943    0    4    2    2   17]\n",
      " [  13    4    2   39    5  792    9    1   22    5]\n",
      " [  10    3   11    1    5   14  911    2    1    0]\n",
      " [   1    8   20   10    6    1    0  961    3   18]\n",
      " [   8    4    9   25   11   27    6    5  871    8]\n",
      " [   7    6    2   13   32    4    0   18    7  920]]\n"
     ]
    }
   ],
   "source": [
    "from sklearn.metrics import classification_report, confusion_matrix  \n",
    "print(confusion_matrix(testtarget, pred_target1))  "
   ]
  },
  {
   "cell_type": "code",
   "execution_count": 351,
   "metadata": {},
   "outputs": [
    {
     "name": "stdout",
     "output_type": "stream",
     "text": [
      "              precision    recall  f1-score   support\n",
      "\n",
      "           0       0.95      0.98      0.96       980\n",
      "           1       0.97      0.99      0.98      1135\n",
      "           2       0.92      0.94      0.93      1032\n",
      "           3       0.90      0.93      0.92      1010\n",
      "           4       0.93      0.96      0.95       982\n",
      "           5       0.92      0.89      0.91       892\n",
      "           6       0.96      0.95      0.95       958\n",
      "           7       0.95      0.93      0.94      1028\n",
      "           8       0.93      0.89      0.91       974\n",
      "           9       0.95      0.91      0.93      1009\n",
      "\n",
      "   micro avg       0.94      0.94      0.94     10000\n",
      "   macro avg       0.94      0.94      0.94     10000\n",
      "weighted avg       0.94      0.94      0.94     10000\n",
      "\n"
     ]
    }
   ],
   "source": [
    "print(classification_report(testtarget, pred_target1)) "
   ]
  },
  {
   "cell_type": "code",
   "execution_count": 228,
   "metadata": {},
   "outputs": [],
   "source": [
    "mnist3 = np.asarray(pred_target1) #-------------------------------> MNIST prediction 3"
   ]
  },
  {
   "cell_type": "code",
   "execution_count": 123,
   "metadata": {},
   "outputs": [],
   "source": [
    "pred_target = svclassifier.predict(USPSMat)"
   ]
  },
  {
   "cell_type": "code",
   "execution_count": 344,
   "metadata": {},
   "outputs": [],
   "source": [
    "counter = 0\n",
    "\n",
    "for i in range (0,len(USPSTar)):\n",
    "    if(pred_target[i] == USPSTar[i]):\n",
    "        counter += 1\n",
    "acc_svm1 = (counter/len(USPSTar))*100"
   ]
  },
  {
   "cell_type": "code",
   "execution_count": 345,
   "metadata": {},
   "outputs": [
    {
     "name": "stdout",
     "output_type": "stream",
     "text": [
      "Testing Accuracy ----->  29.1265\n"
     ]
    }
   ],
   "source": [
    "print(\"Testing Accuracy ----->  \"+ str(np.around(acc_svm1,4)))"
   ]
  },
  {
   "cell_type": "code",
   "execution_count": 352,
   "metadata": {},
   "outputs": [
    {
     "name": "stdout",
     "output_type": "stream",
     "text": [
      "[[ 348    0  476  152  222  345   74  172   10  201]\n",
      " [  60  303  534  275  230  172   17  351   37   21]\n",
      " [ 139   63 1293  115   33  221   55   45   21   14]\n",
      " [  56   58  341  898    8  520    9   45   48   17]\n",
      " [  24   24  221   82  800  215   10  464   82   78]\n",
      " [  47   25  652  240   41  876   30   35   41   13]\n",
      " [ 146   19  903   55   86  264  462   38    2   25]\n",
      " [  19   74  201  706   54  294   12  522   84   34]\n",
      " [ 100   16  298  449  126  692   82   58  160   19]\n",
      " [  18   38  204  588  142  104    8  580  155  163]]\n"
     ]
    }
   ],
   "source": [
    "from sklearn.metrics import classification_report, confusion_matrix  \n",
    "print(confusion_matrix(USPSTar, pred_target))  "
   ]
  },
  {
   "cell_type": "code",
   "execution_count": 353,
   "metadata": {},
   "outputs": [
    {
     "name": "stdout",
     "output_type": "stream",
     "text": [
      "              precision    recall  f1-score   support\n",
      "\n",
      "           0       0.36      0.17      0.24      2000\n",
      "           1       0.49      0.15      0.23      2000\n",
      "           2       0.25      0.65      0.36      1999\n",
      "           3       0.25      0.45      0.32      2000\n",
      "           4       0.46      0.40      0.43      2000\n",
      "           5       0.24      0.44      0.31      2000\n",
      "           6       0.61      0.23      0.33      2000\n",
      "           7       0.23      0.26      0.24      2000\n",
      "           8       0.25      0.08      0.12      2000\n",
      "           9       0.28      0.08      0.13      2000\n",
      "\n",
      "   micro avg       0.29      0.29      0.29     19999\n",
      "   macro avg       0.34      0.29      0.27     19999\n",
      "weighted avg       0.34      0.29      0.27     19999\n",
      "\n"
     ]
    }
   ],
   "source": [
    "print(classification_report(USPSTar, pred_target))"
   ]
  },
  {
   "cell_type": "code",
   "execution_count": 195,
   "metadata": {},
   "outputs": [],
   "source": [
    "usps3 = np.asarray(pred_target) #-------------------------------> USPS prediction 3"
   ]
  },
  {
   "cell_type": "markdown",
   "metadata": {},
   "source": [
    "# 4 Random Forest"
   ]
  },
  {
   "cell_type": "code",
   "execution_count": 332,
   "metadata": {},
   "outputs": [],
   "source": [
    "from sklearn.ensemble import RandomForestClassifier"
   ]
  },
  {
   "cell_type": "code",
   "execution_count": 335,
   "metadata": {},
   "outputs": [
    {
     "data": {
      "text/plain": [
       "RandomForestClassifier(bootstrap=True, class_weight=None, criterion='gini',\n",
       "            max_depth=None, max_features='auto', max_leaf_nodes=None,\n",
       "            min_impurity_decrease=0.0, min_impurity_split=None,\n",
       "            min_samples_leaf=1, min_samples_split=2,\n",
       "            min_weight_fraction_leaf=0.0, n_estimators=500, n_jobs=None,\n",
       "            oob_score=False, random_state=None, verbose=0,\n",
       "            warm_start=False)"
      ]
     },
     "execution_count": 335,
     "metadata": {},
     "output_type": "execute_result"
    }
   ],
   "source": [
    "rfc = RandomForestClassifier(n_estimators=500)\n",
    "rfc.fit(trainingdata, trainingtarget)"
   ]
  },
  {
   "cell_type": "code",
   "execution_count": 336,
   "metadata": {},
   "outputs": [],
   "source": [
    "predicted = rfc.predict(testdata)\n",
    "predicted_m = np.argmax(predicted, axis =1)"
   ]
  },
  {
   "cell_type": "code",
   "execution_count": 337,
   "metadata": {},
   "outputs": [],
   "source": [
    "count = 0\n",
    "for i in range (len(testtarget)):\n",
    "    if(predicted_m[i] == testtarget[i]):\n",
    "        count += 1\n",
    "acc_rfc = ((count/len(testtarget))*100)"
   ]
  },
  {
   "cell_type": "code",
   "execution_count": 338,
   "metadata": {},
   "outputs": [
    {
     "name": "stdout",
     "output_type": "stream",
     "text": [
      "Testing Accuracy ----->  90.3\n"
     ]
    }
   ],
   "source": [
    "print(\"Testing Accuracy ----->  \"+ str(np.around(acc_rfc,4)))"
   ]
  },
  {
   "cell_type": "code",
   "execution_count": 339,
   "metadata": {},
   "outputs": [
    {
     "data": {
      "text/plain": [
       "array([[ 979,    0,    0,    0,    0,    0,    0,    1,    0,    0],\n",
       "       [  24, 1109,    0,    1,    0,    0,    1,    0,    0,    0],\n",
       "       [ 102,    0,  923,    0,    0,    0,    2,    4,    1,    0],\n",
       "       [ 130,    0,    1,  874,    0,    2,    0,    3,    0,    0],\n",
       "       [ 107,    0,    0,    0,  869,    0,    0,    0,    1,    5],\n",
       "       [ 132,    0,    0,    1,    0,  758,    1,    0,    0,    0],\n",
       "       [  64,    2,    0,    0,    1,    0,  891,    0,    0,    0],\n",
       "       [  90,    0,    8,    0,    0,    0,    0,  929,    0,    1],\n",
       "       [ 160,    0,    0,    0,    1,    0,    0,    0,  811,    2],\n",
       "       [ 118,    0,    0,    0,    3,    0,    0,    1,    0,  887]],\n",
       "      dtype=int64)"
      ]
     },
     "execution_count": 339,
     "metadata": {},
     "output_type": "execute_result"
    }
   ],
   "source": [
    "from sklearn.metrics import confusion_matrix\n",
    "y_true = testtarget\n",
    "y_pred = predicted_m\n",
    "confusion_matrix(y_true, y_pred)"
   ]
  },
  {
   "cell_type": "code",
   "execution_count": 395,
   "metadata": {},
   "outputs": [
    {
     "name": "stdout",
     "output_type": "stream",
     "text": [
      "              precision    recall  f1-score   support\n",
      "\n",
      "           0       0.51      1.00      0.68       980\n",
      "           1       1.00      0.98      0.99      1135\n",
      "           2       0.99      0.89      0.94      1032\n",
      "           3       1.00      0.87      0.93      1010\n",
      "           4       0.99      0.88      0.94       982\n",
      "           5       1.00      0.85      0.92       892\n",
      "           6       1.00      0.93      0.96       958\n",
      "           7       0.99      0.90      0.95      1028\n",
      "           8       1.00      0.83      0.91       974\n",
      "           9       0.99      0.88      0.93      1009\n",
      "\n",
      "   micro avg       0.90      0.90      0.90     10000\n",
      "   macro avg       0.95      0.90      0.91     10000\n",
      "weighted avg       0.95      0.90      0.91     10000\n",
      "\n"
     ]
    }
   ],
   "source": [
    "print(classification_report(testtarget, predicted_m))"
   ]
  },
  {
   "cell_type": "code",
   "execution_count": 340,
   "metadata": {},
   "outputs": [],
   "source": [
    "mnist4 = np.asarray(predicted_m) #-------------------------------> MNIST prediction 4"
   ]
  },
  {
   "cell_type": "code",
   "execution_count": 400,
   "metadata": {},
   "outputs": [
    {
     "name": "stdout",
     "output_type": "stream",
     "text": [
      "19999\n",
      "19999\n"
     ]
    }
   ],
   "source": [
    "predicted_u = rfc.predict(USPSMat)\n",
    "predicted_u = np.argmax(predicted_u, axis =1)\n",
    "print(len(predicted_u))\n",
    "print(len(USPSTar))"
   ]
  },
  {
   "cell_type": "code",
   "execution_count": 404,
   "metadata": {},
   "outputs": [],
   "source": [
    "count = 0\n",
    "for i in range (len(USPSTar)):\n",
    "    if(predicted_u[i] == USPSTar[i]):\n",
    "        count += 1\n",
    "acc_rfc_usps = ((count/len(USPSTar))*100)"
   ]
  },
  {
   "cell_type": "code",
   "execution_count": 409,
   "metadata": {},
   "outputs": [
    {
     "name": "stdout",
     "output_type": "stream",
     "text": [
      "Testing Accuracy ----->  14.9707\n"
     ]
    }
   ],
   "source": [
    "print(\"Testing Accuracy ----->  \"+ str(np.around(acc_rfc_usps,4)))"
   ]
  },
  {
   "cell_type": "code",
   "execution_count": 410,
   "metadata": {},
   "outputs": [
    {
     "data": {
      "text/plain": [
       "array([[1987,    0,    3,    0,    6,    0,    0,    0,    0,    4],\n",
       "       [1499,  220,    0,    0,    0,    0,    1,  280,    0,    0],\n",
       "       [1899,    0,   85,    0,    0,    0,    0,   15,    0,    0],\n",
       "       [1876,    0,    0,  124,    0,    0,    0,    0,    0,    0],\n",
       "       [1727,    5,    0,    0,  205,    0,    0,   63,    0,    0],\n",
       "       [1876,    0,    0,    0,    0,  123,    0,    1,    0,    0],\n",
       "       [1960,    1,    0,    0,    0,    0,   39,    0,    0,    0],\n",
       "       [1757,   34,    2,    0,    0,    0,    0,  207,    0,    0],\n",
       "       [1995,    0,    0,    0,    0,    2,    0,    0,    3,    0],\n",
       "       [1952,   11,    0,    0,    0,    0,    0,   36,    0,    1]],\n",
       "      dtype=int64)"
      ]
     },
     "execution_count": 410,
     "metadata": {},
     "output_type": "execute_result"
    }
   ],
   "source": [
    "from sklearn.metrics import confusion_matrix\n",
    "y_true = USPSTar\n",
    "y_pred = predicted_u\n",
    "confusion_matrix(y_true, y_pred)"
   ]
  },
  {
   "cell_type": "code",
   "execution_count": 412,
   "metadata": {},
   "outputs": [
    {
     "name": "stdout",
     "output_type": "stream",
     "text": [
      "              precision    recall  f1-score   support\n",
      "\n",
      "           0       0.11      0.99      0.19      2000\n",
      "           1       0.81      0.11      0.19      2000\n",
      "           2       0.94      0.04      0.08      1999\n",
      "           3       1.00      0.06      0.12      2000\n",
      "           4       0.97      0.10      0.19      2000\n",
      "           5       0.98      0.06      0.12      2000\n",
      "           6       0.97      0.02      0.04      2000\n",
      "           7       0.34      0.10      0.16      2000\n",
      "           8       1.00      0.00      0.00      2000\n",
      "           9       0.20      0.00      0.00      2000\n",
      "\n",
      "   micro avg       0.15      0.15      0.15     19999\n",
      "   macro avg       0.73      0.15      0.11     19999\n",
      "weighted avg       0.73      0.15      0.11     19999\n",
      "\n"
     ]
    }
   ],
   "source": [
    "print(classification_report(USPSTar, predicted_u))"
   ]
  },
  {
   "cell_type": "code",
   "execution_count": 194,
   "metadata": {},
   "outputs": [],
   "source": [
    "usps4 = np.asarray(predicted_u) #-------------------------------> USPS prediction 4"
   ]
  },
  {
   "cell_type": "markdown",
   "metadata": {},
   "source": [
    "## Soft-Voting"
   ]
  },
  {
   "cell_type": "code",
   "execution_count": 318,
   "metadata": {},
   "outputs": [
    {
     "name": "stdout",
     "output_type": "stream",
     "text": [
      "(10000, 1) (10000,) (10000,) (10000,) (19999,) (19999,) (19999,) (19999,)\n",
      "10000 19999\n"
     ]
    }
   ],
   "source": [
    "print(mnist1.shape, mnist2.shape, mnist3.shape, mnist4.shape, usps1.shape, usps2.shape, usps3.shape, usps4.shape)\n",
    "\n",
    "r1 = mnist1.shape[0]\n",
    "r2 =  usps1.shape[0]\n",
    "\n",
    "print(r1, r2)"
   ]
  },
  {
   "cell_type": "code",
   "execution_count": 319,
   "metadata": {},
   "outputs": [],
   "source": [
    "class_matrix = np.ones(10)\n",
    "\n",
    "final_pred_target_mnist = np.zeros((r1,1))\n",
    "\n",
    "for i in range(1, len(mnist1)):\n",
    "    i1 = mnist1[i]\n",
    "    i2 = mnist2[i]\n",
    "    i3 = mnist3[i]\n",
    "    i4 = mnist4[i]\n",
    "    class_matrix[i1] += 1\n",
    "    class_matrix[i2] += 1\n",
    "    class_matrix[i3] += 1\n",
    "    class_matrix[i4] += 1\n",
    "    y = np.argmax(class_matrix)\n",
    "    final_pred_target_mnist[i] = y\n",
    "    class_matrix = np.ones(10)\n",
    "\n",
    "counter = 0\n",
    "\n",
    "for i in range (0,len(testtarget)):\n",
    "    if(final_pred_target_mnist[i] == testtarget[i]):\n",
    "        counter += 1\n",
    "final_acc_mnist = (counter/len(testtarget))*100"
   ]
  },
  {
   "cell_type": "code",
   "execution_count": 329,
   "metadata": {},
   "outputs": [],
   "source": [
    "class_matrix_usps = np.ones(10)\n",
    "\n",
    "final_pred_target_usps = np.zeros((r2,1))\n",
    "\n",
    "for i in range(1, len(USPSTar)):\n",
    "    i1 = usps1[i]\n",
    "    i2 = usps2[i]\n",
    "    i3 = usps3[i]\n",
    "    i4 = usps4[i]\n",
    "    class_matrix[i1] += 1\n",
    "    class_matrix[i2] += 1\n",
    "    class_matrix[i3] += 1\n",
    "    class_matrix[i4] += 1\n",
    "    y = np.argmax(class_matrix)\n",
    "    final_pred_target_usps[i] = y\n",
    "    class_matrix = np.ones(10)\n",
    "\n",
    "counter = 0\n",
    "\n",
    "for i in range (0,len(USPSTar)):\n",
    "    if(final_pred_target_usps[i] == USPSTar[i]):\n",
    "        counter += 1\n",
    "final_acc_usps = (counter/len(USPSTar))*100"
   ]
  },
  {
   "cell_type": "code",
   "execution_count": 331,
   "metadata": {},
   "outputs": [
    {
     "name": "stdout",
     "output_type": "stream",
     "text": [
      "Merged Accuracy on MNIST after Soft-Voting ----->  90.47\n",
      "Merged Accuracy on MNIST after Soft-Voting ----->  37.8119\n"
     ]
    }
   ],
   "source": [
    "print(\"Merged Accuracy on MNIST after Soft-Voting ----->  \"+ str(np.around(final_acc_mnist,4)))\n",
    "print(\"Merged Accuracy on MNIST after Soft-Voting ----->  \"+ str(np.around(final_acc_usps,4)))"
   ]
  },
  {
   "cell_type": "code",
   "execution_count": null,
   "metadata": {},
   "outputs": [],
   "source": []
  },
  {
   "cell_type": "code",
   "execution_count": null,
   "metadata": {},
   "outputs": [],
   "source": []
  },
  {
   "cell_type": "code",
   "execution_count": null,
   "metadata": {},
   "outputs": [],
   "source": []
  }
 ],
 "metadata": {
  "kernelspec": {
   "display_name": "Python 3",
   "language": "python",
   "name": "python3"
  },
  "language_info": {
   "codemirror_mode": {
    "name": "ipython",
    "version": 3
   },
   "file_extension": ".py",
   "mimetype": "text/x-python",
   "name": "python",
   "nbconvert_exporter": "python",
   "pygments_lexer": "ipython3",
   "version": "3.6.6"
  }
 },
 "nbformat": 4,
 "nbformat_minor": 2
}
