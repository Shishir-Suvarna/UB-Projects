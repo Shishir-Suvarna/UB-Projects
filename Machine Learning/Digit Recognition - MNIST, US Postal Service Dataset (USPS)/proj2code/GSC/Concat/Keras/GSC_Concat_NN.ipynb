{
 "cells": [
  {
   "cell_type": "markdown",
   "metadata": {},
   "source": [
    "## Project 2.0 using Keras [Neural Network]"
   ]
  },
  {
   "cell_type": "code",
   "execution_count": 92,
   "metadata": {},
   "outputs": [],
   "source": [
    "import pandas as pd\n",
    "from sklearn.cluster import KMeans\n",
    "import numpy as np\n",
    "import csv\n",
    "import math\n",
    "import matplotlib.pyplot\n",
    "from matplotlib import pyplot as plt\n",
    "from sklearn.utils import shuffle"
   ]
  },
  {
   "cell_type": "markdown",
   "metadata": {},
   "source": [
    "## Processing Input and Label Data"
   ]
  },
  {
   "cell_type": "code",
   "execution_count": 93,
   "metadata": {},
   "outputs": [],
   "source": [
    "def processData(dataset):\n",
    "    \n",
    "    Feature = pd.read_csv('GSC-Features.csv', index_col=False)\n",
    "    Samepair = pd.read_csv('same_pairs.csv')\n",
    "    Samepair = Samepair.sample(10000)\n",
    "    data = pd.merge(left=Samepair, right=Feature, left_on='img_id_A', right_on='img_id')\n",
    "    newdata = pd.merge(left=data, right=Feature, left_on='img_id_B', right_on='img_id')   \n",
    "    newdata = newdata.drop(['img_id_A','img_id_B'], axis = 1)\n",
    "\n",
    "    Feature = pd.read_csv('GSC-Features.csv', index_col=False)\n",
    "    Diffpair = pd.read_csv('diffn_pairs.csv')\n",
    "    Diffpair = Diffpair.sample(10000)\n",
    "    data = pd.merge(left=Diffpair, right=Feature, left_on='img_id_A', right_on='img_id')\n",
    "    newdata1 = pd.merge(left=data, right=Feature, left_on='img_id_B', right_on='img_id')\n",
    "    newdata1 = newdata1.drop(['img_id_A','img_id_B'], axis = 1)\n",
    "\n",
    "    frames = [newdata, newdata1]\n",
    "    Hdata = pd.concat(frames)\n",
    "    Hdatanew = shuffle(Hdata)\n",
    "    t = Hdatanew['target']\n",
    "    t = t.as_matrix()\n",
    "    Hdata2 = Hdatanew.drop(['target'], axis = 1)\n",
    "    Hdata2 = Hdata2.loc[:, ~Hdata2.columns.str.contains('^img_id')]\n",
    "\n",
    "\n",
    "    processedLabel = np.matrix(t)\n",
    "    processedLabel = np.transpose(processedLabel)\n",
    "    processedData = np.matrix(Hdata2)\n",
    "\n",
    "    return processedData, processedLabel"
   ]
  },
  {
   "cell_type": "code",
   "execution_count": 94,
   "metadata": {},
   "outputs": [],
   "source": [
    "from keras.utils import np_utils\n",
    "\n",
    "def encodeLabel(labels):\n",
    "    return np_utils.to_categorical(np.array(processedLabel))"
   ]
  },
  {
   "cell_type": "markdown",
   "metadata": {},
   "source": [
    "## Create Testing Datasets"
   ]
  },
  {
   "cell_type": "code",
   "execution_count": 95,
   "metadata": {},
   "outputs": [],
   "source": [
    "from keras.models import Sequential\n",
    "from keras.layers import Dense, Activation, Dropout\n",
    "from keras.callbacks import EarlyStopping, TensorBoard\n",
    "\n",
    "import numpy as np\n",
    "\n",
    "input_size = 1024\n",
    "drop_out = 0.2\n",
    "first_dense_layer_nodes  = 512\n",
    "second_dense_layer_nodes  = 128\n",
    "third_dense_layer_nodes  = 2\n",
    "\n",
    "def get_model():\n",
    "    \n",
    "    model = Sequential()\n",
    "    \n",
    "    model.add(Dense(first_dense_layer_nodes, input_dim=input_size))\n",
    "    model.add(Activation('relu'))\n",
    "    \n",
    "    model.add(Dropout(drop_out))\n",
    "    \n",
    "    model.add(Dense(second_dense_layer_nodes))\n",
    "    model.add(Activation('softmax'))\n",
    "    \n",
    "    model.add(Dropout(drop_out))\n",
    "    \n",
    "    model.add(Dense(third_dense_layer_nodes))\n",
    "    model.add(Activation('softmax'))\n",
    "    \n",
    "    model.summary()\n",
    "\n",
    "    model.compile(optimizer='adamax',\n",
    "                  loss='categorical_crossentropy',\n",
    "                  metrics=['accuracy'])\n",
    "    \n",
    "    return model"
   ]
  },
  {
   "cell_type": "markdown",
   "metadata": {},
   "source": [
    "# <font color='blue'>Creating Model</font>"
   ]
  },
  {
   "cell_type": "code",
   "execution_count": 96,
   "metadata": {},
   "outputs": [
    {
     "name": "stdout",
     "output_type": "stream",
     "text": [
      "_________________________________________________________________\n",
      "Layer (type)                 Output Shape              Param #   \n",
      "=================================================================\n",
      "dense_46 (Dense)             (None, 512)               524800    \n",
      "_________________________________________________________________\n",
      "activation_46 (Activation)   (None, 512)               0         \n",
      "_________________________________________________________________\n",
      "dropout_31 (Dropout)         (None, 512)               0         \n",
      "_________________________________________________________________\n",
      "dense_47 (Dense)             (None, 128)               65664     \n",
      "_________________________________________________________________\n",
      "activation_47 (Activation)   (None, 128)               0         \n",
      "_________________________________________________________________\n",
      "dropout_32 (Dropout)         (None, 128)               0         \n",
      "_________________________________________________________________\n",
      "dense_48 (Dense)             (None, 2)                 258       \n",
      "_________________________________________________________________\n",
      "activation_48 (Activation)   (None, 2)                 0         \n",
      "=================================================================\n",
      "Total params: 590,722\n",
      "Trainable params: 590,722\n",
      "Non-trainable params: 0\n",
      "_________________________________________________________________\n"
     ]
    }
   ],
   "source": [
    "model = get_model()"
   ]
  },
  {
   "cell_type": "markdown",
   "metadata": {},
   "source": [
    "# <font color = blue>Run Model</font>"
   ]
  },
  {
   "cell_type": "code",
   "execution_count": 98,
   "metadata": {
    "scrolled": false
   },
   "outputs": [
    {
     "name": "stdout",
     "output_type": "stream",
     "text": [
      "(10000, 1027)\n",
      "(10000, 1027)\n",
      "(20000, 1027)\n"
     ]
    },
    {
     "name": "stderr",
     "output_type": "stream",
     "text": [
      "C:\\Users\\sagni\\Anaconda3\\envs\\ML\\lib\\site-packages\\ipykernel_launcher.py:24: FutureWarning: Method .as_matrix will be removed in a future version. Use .values instead.\n"
     ]
    },
    {
     "name": "stdout",
     "output_type": "stream",
     "text": [
      "[[1]\n",
      " [1]\n",
      " [0]\n",
      " ...\n",
      " [1]\n",
      " [1]\n",
      " [1]]\n",
      "(20000, 1)\n",
      "Train on 16000 samples, validate on 4000 samples\n",
      "Epoch 1/100\n",
      "16000/16000 [==============================] - 3s 172us/step - loss: 0.5223 - acc: 0.8206 - val_loss: 0.3616 - val_acc: 0.8455\n",
      "Epoch 2/100\n",
      "16000/16000 [==============================] - 3s 172us/step - loss: 0.3659 - acc: 0.8454 - val_loss: 0.3470 - val_acc: 0.8530\n",
      "Epoch 3/100\n",
      "16000/16000 [==============================] - 3s 172us/step - loss: 0.3245 - acc: 0.8633 - val_loss: 0.3403 - val_acc: 0.8642\n",
      "Epoch 4/100\n",
      "16000/16000 [==============================] - 3s 169us/step - loss: 0.2913 - acc: 0.8788 - val_loss: 0.3314 - val_acc: 0.8582\n",
      "Epoch 5/100\n",
      "16000/16000 [==============================] - 3s 171us/step - loss: 0.2661 - acc: 0.8935 - val_loss: 0.3342 - val_acc: 0.8762\n",
      "Epoch 6/100\n",
      "16000/16000 [==============================] - 3s 171us/step - loss: 0.2380 - acc: 0.9045 - val_loss: 0.3368 - val_acc: 0.8752\n",
      "Epoch 7/100\n",
      "16000/16000 [==============================] - 3s 176us/step - loss: 0.2097 - acc: 0.9174 - val_loss: 0.3601 - val_acc: 0.8658\n",
      "Epoch 8/100\n",
      "16000/16000 [==============================] - 3s 175us/step - loss: 0.1842 - acc: 0.9307 - val_loss: 0.3693 - val_acc: 0.8685\n",
      "Epoch 9/100\n",
      "16000/16000 [==============================] - 3s 175us/step - loss: 0.1674 - acc: 0.9375 - val_loss: 0.3848 - val_acc: 0.8720\n",
      "Epoch 10/100\n",
      "16000/16000 [==============================] - 3s 172us/step - loss: 0.1509 - acc: 0.9439 - val_loss: 0.3491 - val_acc: 0.8715\n",
      "Epoch 11/100\n",
      "16000/16000 [==============================] - 3s 177us/step - loss: 0.1319 - acc: 0.9545 - val_loss: 0.3576 - val_acc: 0.8828\n",
      "Epoch 12/100\n",
      "16000/16000 [==============================] - 3s 173us/step - loss: 0.1222 - acc: 0.9561 - val_loss: 0.3859 - val_acc: 0.8760\n",
      "Epoch 13/100\n",
      "16000/16000 [==============================] - 3s 172us/step - loss: 0.1178 - acc: 0.9584 - val_loss: 0.3904 - val_acc: 0.8778\n",
      "Epoch 14/100\n",
      "16000/16000 [==============================] - 3s 170us/step - loss: 0.1033 - acc: 0.9646 - val_loss: 0.4131 - val_acc: 0.8708\n",
      "Epoch 15/100\n",
      "16000/16000 [==============================] - 3s 174us/step - loss: 0.1036 - acc: 0.9631 - val_loss: 0.4301 - val_acc: 0.8790\n",
      "Epoch 16/100\n",
      "16000/16000 [==============================] - 3s 176us/step - loss: 0.0996 - acc: 0.9654 - val_loss: 0.4075 - val_acc: 0.8812\n",
      "Epoch 17/100\n",
      "16000/16000 [==============================] - 3s 174us/step - loss: 0.0960 - acc: 0.9669 - val_loss: 0.4150 - val_acc: 0.8810\n",
      "Epoch 18/100\n",
      "16000/16000 [==============================] - 3s 174us/step - loss: 0.0843 - acc: 0.9705 - val_loss: 0.4415 - val_acc: 0.8772\n",
      "Epoch 19/100\n",
      "16000/16000 [==============================] - 3s 173us/step - loss: 0.0840 - acc: 0.9716 - val_loss: 0.4176 - val_acc: 0.8812\n",
      "Epoch 20/100\n",
      "16000/16000 [==============================] - 3s 173us/step - loss: 0.0838 - acc: 0.9708 - val_loss: 0.4301 - val_acc: 0.8758\n",
      "Epoch 21/100\n",
      "16000/16000 [==============================] - 3s 173us/step - loss: 0.0765 - acc: 0.9734 - val_loss: 0.4185 - val_acc: 0.8848\n",
      "Epoch 22/100\n",
      "16000/16000 [==============================] - 3s 175us/step - loss: 0.0759 - acc: 0.9732 - val_loss: 0.4875 - val_acc: 0.8755\n",
      "Epoch 23/100\n",
      "16000/16000 [==============================] - 2s 154us/step - loss: 0.0696 - acc: 0.9758 - val_loss: 0.4517 - val_acc: 0.8850\n",
      "Epoch 24/100\n",
      "16000/16000 [==============================] - 3s 171us/step - loss: 0.0763 - acc: 0.9719 - val_loss: 0.4363 - val_acc: 0.8822\n",
      "Epoch 25/100\n",
      "16000/16000 [==============================] - 3s 174us/step - loss: 0.0761 - acc: 0.9705 - val_loss: 0.4187 - val_acc: 0.8872\n",
      "Epoch 26/100\n",
      "16000/16000 [==============================] - 3s 171us/step - loss: 0.0680 - acc: 0.9739 - val_loss: 0.4258 - val_acc: 0.8840\n",
      "Epoch 27/100\n",
      "16000/16000 [==============================] - 3s 175us/step - loss: 0.0632 - acc: 0.9755 - val_loss: 0.4494 - val_acc: 0.8838\n",
      "Epoch 28/100\n",
      "16000/16000 [==============================] - 3s 173us/step - loss: 0.0604 - acc: 0.9762 - val_loss: 0.4199 - val_acc: 0.8778\n",
      "Epoch 29/100\n",
      "16000/16000 [==============================] - 3s 172us/step - loss: 0.0579 - acc: 0.9779 - val_loss: 0.4666 - val_acc: 0.8858\n",
      "Epoch 30/100\n",
      "16000/16000 [==============================] - 3s 172us/step - loss: 0.0547 - acc: 0.9772 - val_loss: 0.4247 - val_acc: 0.8848\n",
      "Epoch 31/100\n",
      "16000/16000 [==============================] - 3s 168us/step - loss: 0.0527 - acc: 0.9772 - val_loss: 0.4520 - val_acc: 0.8810\n",
      "Epoch 32/100\n",
      "16000/16000 [==============================] - 3s 175us/step - loss: 0.0492 - acc: 0.9785 - val_loss: 0.4792 - val_acc: 0.8820\n",
      "Epoch 33/100\n",
      "16000/16000 [==============================] - 3s 161us/step - loss: 0.0482 - acc: 0.9775 - val_loss: 0.4468 - val_acc: 0.8810\n",
      "Epoch 34/100\n",
      "16000/16000 [==============================] - 3s 174us/step - loss: 0.0505 - acc: 0.9763 - val_loss: 0.4606 - val_acc: 0.8818\n",
      "Epoch 35/100\n",
      "16000/16000 [==============================] - 3s 177us/step - loss: 0.0425 - acc: 0.9786 - val_loss: 0.4645 - val_acc: 0.8865\n",
      "Epoch 36/100\n",
      "16000/16000 [==============================] - 3s 169us/step - loss: 0.0430 - acc: 0.9777 - val_loss: 0.4589 - val_acc: 0.8832\n",
      "Epoch 37/100\n",
      "16000/16000 [==============================] - 3s 173us/step - loss: 0.0455 - acc: 0.9756 - val_loss: 0.6065 - val_acc: 0.8730\n",
      "Epoch 38/100\n",
      "16000/16000 [==============================] - 3s 173us/step - loss: 0.0405 - acc: 0.9774 - val_loss: 0.4791 - val_acc: 0.8868\n",
      "Epoch 39/100\n",
      "16000/16000 [==============================] - 3s 171us/step - loss: 0.0343 - acc: 0.9812 - val_loss: 0.4746 - val_acc: 0.8818\n",
      "Epoch 40/100\n",
      "16000/16000 [==============================] - 3s 170us/step - loss: 0.0375 - acc: 0.9774 - val_loss: 0.4715 - val_acc: 0.8880\n",
      "Epoch 41/100\n",
      "16000/16000 [==============================] - 3s 173us/step - loss: 0.0353 - acc: 0.9792 - val_loss: 0.4702 - val_acc: 0.8870\n",
      "Epoch 42/100\n",
      "16000/16000 [==============================] - 3s 178us/step - loss: 0.0336 - acc: 0.9779 - val_loss: 0.5014 - val_acc: 0.8828\n",
      "Epoch 43/100\n",
      "16000/16000 [==============================] - 3s 172us/step - loss: 0.0328 - acc: 0.9776 - val_loss: 0.4981 - val_acc: 0.8842\n",
      "Epoch 44/100\n",
      "16000/16000 [==============================] - 3s 179us/step - loss: 0.0321 - acc: 0.9764 - val_loss: 0.5119 - val_acc: 0.8852\n",
      "Epoch 45/100\n",
      "16000/16000 [==============================] - 3s 174us/step - loss: 0.0317 - acc: 0.9788 - val_loss: 0.5584 - val_acc: 0.8785\n",
      "Epoch 46/100\n",
      "16000/16000 [==============================] - 3s 176us/step - loss: 0.0328 - acc: 0.9853 - val_loss: 0.5431 - val_acc: 0.8858\n",
      "Epoch 47/100\n",
      "16000/16000 [==============================] - 3s 173us/step - loss: 0.0268 - acc: 0.9917 - val_loss: 0.5423 - val_acc: 0.8838\n",
      "Epoch 48/100\n",
      "16000/16000 [==============================] - 3s 165us/step - loss: 0.0290 - acc: 0.9918 - val_loss: 0.5749 - val_acc: 0.8802\n",
      "Epoch 49/100\n",
      "16000/16000 [==============================] - 3s 178us/step - loss: 0.0256 - acc: 0.9930 - val_loss: 0.5253 - val_acc: 0.8748\n",
      "Epoch 50/100\n",
      "16000/16000 [==============================] - 3s 175us/step - loss: 0.0283 - acc: 0.9924 - val_loss: 0.5466 - val_acc: 0.8808\n",
      "Epoch 51/100\n",
      "16000/16000 [==============================] - 3s 166us/step - loss: 0.0259 - acc: 0.9947 - val_loss: 0.5564 - val_acc: 0.8810\n",
      "Epoch 52/100\n",
      "16000/16000 [==============================] - 3s 171us/step - loss: 0.0254 - acc: 0.9949 - val_loss: 0.5503 - val_acc: 0.8862\n",
      "Epoch 53/100\n",
      "16000/16000 [==============================] - 3s 174us/step - loss: 0.0223 - acc: 0.9965 - val_loss: 0.6060 - val_acc: 0.8828\n",
      "Epoch 54/100\n",
      "16000/16000 [==============================] - 3s 173us/step - loss: 0.0208 - acc: 0.9969 - val_loss: 0.5556 - val_acc: 0.8812\n",
      "Epoch 55/100\n",
      "16000/16000 [==============================] - 3s 173us/step - loss: 0.0201 - acc: 0.9968 - val_loss: 0.5666 - val_acc: 0.8838\n",
      "Epoch 56/100\n",
      "16000/16000 [==============================] - 3s 172us/step - loss: 0.0236 - acc: 0.9956 - val_loss: 0.6071 - val_acc: 0.8835\n",
      "Epoch 57/100\n",
      "16000/16000 [==============================] - 3s 168us/step - loss: 0.0205 - acc: 0.9965 - val_loss: 0.6058 - val_acc: 0.8855\n",
      "Epoch 58/100\n",
      "16000/16000 [==============================] - 3s 172us/step - loss: 0.0179 - acc: 0.9977 - val_loss: 0.5766 - val_acc: 0.8850\n"
     ]
    },
    {
     "name": "stdout",
     "output_type": "stream",
     "text": [
      "Epoch 59/100\n",
      "16000/16000 [==============================] - 3s 174us/step - loss: 0.0196 - acc: 0.9969 - val_loss: 0.6450 - val_acc: 0.8815\n",
      "Epoch 60/100\n",
      "16000/16000 [==============================] - 3s 172us/step - loss: 0.0191 - acc: 0.9974 - val_loss: 0.6150 - val_acc: 0.8802\n",
      "Epoch 61/100\n",
      "16000/16000 [==============================] - 3s 179us/step - loss: 0.0197 - acc: 0.9965 - val_loss: 0.5597 - val_acc: 0.8868\n",
      "Epoch 62/100\n",
      "16000/16000 [==============================] - 3s 184us/step - loss: 0.0187 - acc: 0.9971 - val_loss: 0.5793 - val_acc: 0.8835\n",
      "Epoch 63/100\n",
      "16000/16000 [==============================] - 3s 171us/step - loss: 0.0166 - acc: 0.9976 - val_loss: 0.6225 - val_acc: 0.8845\n",
      "Epoch 64/100\n",
      "16000/16000 [==============================] - 3s 172us/step - loss: 0.0146 - acc: 0.9985 - val_loss: 0.6063 - val_acc: 0.8862\n",
      "Epoch 65/100\n",
      "16000/16000 [==============================] - 3s 171us/step - loss: 0.0162 - acc: 0.9976 - val_loss: 0.6067 - val_acc: 0.8848\n",
      "Epoch 66/100\n",
      "16000/16000 [==============================] - 3s 167us/step - loss: 0.0149 - acc: 0.9981 - val_loss: 0.6205 - val_acc: 0.8830\n",
      "Epoch 67/100\n",
      "16000/16000 [==============================] - 3s 172us/step - loss: 0.0158 - acc: 0.9974 - val_loss: 0.6043 - val_acc: 0.8812\n",
      "Epoch 68/100\n",
      "16000/16000 [==============================] - 3s 175us/step - loss: 0.0147 - acc: 0.9979 - val_loss: 0.6153 - val_acc: 0.8828\n",
      "Epoch 69/100\n",
      "16000/16000 [==============================] - 3s 174us/step - loss: 0.0127 - acc: 0.9986 - val_loss: 0.6240 - val_acc: 0.8798\n",
      "Epoch 70/100\n",
      "16000/16000 [==============================] - 3s 176us/step - loss: 0.0141 - acc: 0.9981 - val_loss: 0.6375 - val_acc: 0.8868\n",
      "Epoch 71/100\n",
      "16000/16000 [==============================] - 3s 172us/step - loss: 0.0183 - acc: 0.9966 - val_loss: 0.6563 - val_acc: 0.8818\n",
      "Epoch 72/100\n",
      "16000/16000 [==============================] - 3s 174us/step - loss: 0.0166 - acc: 0.9972 - val_loss: 0.6398 - val_acc: 0.8805\n",
      "Epoch 73/100\n",
      "16000/16000 [==============================] - 3s 173us/step - loss: 0.0111 - acc: 0.9989 - val_loss: 0.6258 - val_acc: 0.8830\n",
      "Epoch 74/100\n",
      "16000/16000 [==============================] - 3s 173us/step - loss: 0.0137 - acc: 0.9978 - val_loss: 0.6231 - val_acc: 0.8828\n",
      "Epoch 75/100\n",
      "16000/16000 [==============================] - 3s 171us/step - loss: 0.0129 - acc: 0.9981 - val_loss: 0.6389 - val_acc: 0.8815\n",
      "Epoch 76/100\n",
      "16000/16000 [==============================] - 3s 175us/step - loss: 0.0126 - acc: 0.9984 - val_loss: 0.6515 - val_acc: 0.8870\n",
      "Epoch 77/100\n",
      "16000/16000 [==============================] - 3s 177us/step - loss: 0.0161 - acc: 0.9969 - val_loss: 0.6590 - val_acc: 0.8802\n",
      "Epoch 78/100\n",
      "16000/16000 [==============================] - 3s 178us/step - loss: 0.0144 - acc: 0.9977 - val_loss: 0.6773 - val_acc: 0.8785\n",
      "Epoch 79/100\n",
      "16000/16000 [==============================] - 3s 173us/step - loss: 0.0123 - acc: 0.9978 - val_loss: 0.6729 - val_acc: 0.8798\n",
      "Epoch 80/100\n",
      "16000/16000 [==============================] - 3s 171us/step - loss: 0.0121 - acc: 0.9979 - val_loss: 0.7197 - val_acc: 0.8788\n",
      "Epoch 81/100\n",
      "16000/16000 [==============================] - 3s 165us/step - loss: 0.0122 - acc: 0.9979 - val_loss: 0.6475 - val_acc: 0.8752\n",
      "Epoch 82/100\n",
      "16000/16000 [==============================] - 3s 174us/step - loss: 0.0145 - acc: 0.9974 - val_loss: 0.6628 - val_acc: 0.8798\n",
      "Epoch 83/100\n",
      "16000/16000 [==============================] - 3s 171us/step - loss: 0.0117 - acc: 0.9981 - val_loss: 0.6785 - val_acc: 0.8840\n",
      "Epoch 84/100\n",
      "16000/16000 [==============================] - 3s 174us/step - loss: 0.0109 - acc: 0.9987 - val_loss: 0.6978 - val_acc: 0.8802\n",
      "Epoch 85/100\n",
      "16000/16000 [==============================] - 3s 174us/step - loss: 0.0132 - acc: 0.9975 - val_loss: 0.6822 - val_acc: 0.8815\n",
      "Epoch 86/100\n",
      "16000/16000 [==============================] - 3s 175us/step - loss: 0.0111 - acc: 0.9981 - val_loss: 0.6585 - val_acc: 0.8860\n",
      "Epoch 87/100\n",
      "16000/16000 [==============================] - 3s 173us/step - loss: 0.0106 - acc: 0.9984 - val_loss: 0.6637 - val_acc: 0.8842\n",
      "Epoch 88/100\n",
      "16000/16000 [==============================] - 3s 175us/step - loss: 0.0113 - acc: 0.9980 - val_loss: 0.6649 - val_acc: 0.8850\n",
      "Epoch 89/100\n",
      "16000/16000 [==============================] - 3s 173us/step - loss: 0.0102 - acc: 0.9984 - val_loss: 0.6901 - val_acc: 0.8862\n",
      "Epoch 90/100\n",
      "16000/16000 [==============================] - 3s 173us/step - loss: 0.0106 - acc: 0.9985 - val_loss: 0.6432 - val_acc: 0.8868\n",
      "Epoch 91/100\n",
      "16000/16000 [==============================] - 3s 174us/step - loss: 0.0083 - acc: 0.9989 - val_loss: 0.6681 - val_acc: 0.8830\n",
      "Epoch 92/100\n",
      "16000/16000 [==============================] - 3s 173us/step - loss: 0.0117 - acc: 0.9977 - val_loss: 0.6646 - val_acc: 0.8825\n",
      "Epoch 93/100\n",
      "16000/16000 [==============================] - 3s 169us/step - loss: 0.0109 - acc: 0.9979 - val_loss: 0.7141 - val_acc: 0.8838\n",
      "Epoch 94/100\n",
      "16000/16000 [==============================] - 3s 172us/step - loss: 0.0095 - acc: 0.9983 - val_loss: 0.6557 - val_acc: 0.8828\n",
      "Epoch 95/100\n",
      "16000/16000 [==============================] - 3s 178us/step - loss: 0.0101 - acc: 0.9981 - val_loss: 0.7372 - val_acc: 0.8820\n",
      "Epoch 96/100\n",
      "16000/16000 [==============================] - 3s 168us/step - loss: 0.0100 - acc: 0.9982 - val_loss: 0.7008 - val_acc: 0.8842\n",
      "Epoch 97/100\n",
      "16000/16000 [==============================] - 3s 171us/step - loss: 0.0094 - acc: 0.9984 - val_loss: 0.7243 - val_acc: 0.8840\n",
      "Epoch 98/100\n",
      "16000/16000 [==============================] - 3s 168us/step - loss: 0.0089 - acc: 0.9986 - val_loss: 0.7174 - val_acc: 0.8835\n",
      "Epoch 99/100\n",
      "16000/16000 [==============================] - 3s 172us/step - loss: 0.0085 - acc: 0.9987 - val_loss: 0.6845 - val_acc: 0.8835\n",
      "Epoch 100/100\n",
      "16000/16000 [==============================] - 3s 171us/step - loss: 0.0087 - acc: 0.9982 - val_loss: 0.6968 - val_acc: 0.8875\n"
     ]
    }
   ],
   "source": [
    "validation_data_split = 0.2\n",
    "num_epochs = 100\n",
    "model_batch_size = 128\n",
    "tb_batch_size = 32\n",
    "early_patience = 100\n",
    "\n",
    "tensorboard_cb   = TensorBoard(log_dir='logs', batch_size= tb_batch_size, write_graph= True)\n",
    "earlystopping_cb = EarlyStopping(monitor='val_loss', verbose=1, patience=early_patience, mode='min')\n",
    "\n",
    "# Read Dataset\n",
    "dataset = pd.read_csv('GSC-Features.csv')\n",
    "\n",
    "# Process Dataset\n",
    "processedData, processedLabel = processData(dataset)\n",
    "processedLabel = encodeLabel(processedLabel)\n",
    "history = model.fit(processedData\n",
    "                    , processedLabel\n",
    "                    , validation_split=validation_data_split\n",
    "                    , epochs=num_epochs\n",
    "                    , batch_size=model_batch_size\n",
    "                    , callbacks = [tensorboard_cb,earlystopping_cb]\n",
    "                   )"
   ]
  },
  {
   "cell_type": "markdown",
   "metadata": {},
   "source": [
    "# <font color = blue>Training and Validation Graphs</font>"
   ]
  },
  {
   "cell_type": "code",
   "execution_count": 99,
   "metadata": {
    "scrolled": true
   },
   "outputs": [
    {
     "data": {
      "text/plain": [
       "array([<matplotlib.axes._subplots.AxesSubplot object at 0x0000016000D90668>,\n",
       "       <matplotlib.axes._subplots.AxesSubplot object at 0x0000016000DC2048>,\n",
       "       <matplotlib.axes._subplots.AxesSubplot object at 0x0000016000C84320>,\n",
       "       <matplotlib.axes._subplots.AxesSubplot object at 0x0000016003A83208>],\n",
       "      dtype=object)"
      ]
     },
     "execution_count": 99,
     "metadata": {},
     "output_type": "execute_result"
    },
    {
     "data": {
      "image/png": "[encoded data removed]",
      "text/plain": [
       "<Figure size 720x1080 with 4 Axes>"
      ]
     },
     "metadata": {
      "needs_background": "light"
     },
     "output_type": "display_data"
    }
   ],
   "source": [
    "%matplotlib inline\n",
    "df = pd.DataFrame(history.history)\n",
    "df.plot(subplots=True, grid=True, figsize=(10,15))"
   ]
  },
  {
   "cell_type": "code",
   "execution_count": null,
   "metadata": {},
   "outputs": [],
   "source": []
  }
 ],
 "metadata": {
  "kernelspec": {
   "display_name": "Python 3",
   "language": "python",
   "name": "python3"
  },
  "language_info": {
   "codemirror_mode": {
    "name": "ipython",
    "version": 3
   },
   "file_extension": ".py",
   "mimetype": "text/x-python",
   "name": "python",
   "nbconvert_exporter": "python",
   "pygments_lexer": "ipython3",
   "version": "3.6.6"
  }
 },
 "nbformat": 4,
 "nbformat_minor": 2
}
